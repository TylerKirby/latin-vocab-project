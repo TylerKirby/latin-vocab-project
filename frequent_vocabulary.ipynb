{
 "cells": [
  {
   "cell_type": "code",
   "execution_count": 1,
   "metadata": {},
   "outputs": [],
   "source": [
    "import os\n",
    "import operator\n",
    "import re\n",
    "from collections import Counter\n",
    "\n",
    "from cltk.lemmatize.latin.backoff import BackoffLatinLemmatizer"
   ]
  },
  {
   "cell_type": "code",
   "execution_count": 2,
   "metadata": {},
   "outputs": [],
   "source": [
    "path_to_texts = '/Users/tyler/cltk_data/latin/text/latin_text_latin_library/'"
   ]
  },
  {
   "cell_type": "markdown",
   "metadata": {},
   "source": [
    "Determine which texts to analyze. For this experiment, I look at Cicero's Catilinarians 1 and 2, Vergil's Aenied 1, 4, 6, Caesar's Gallic Wars 1, Ovid's Metamorphoses 1, Catullus, Tacitus Annales 1, and Livy 1."
   ]
  },
  {
   "cell_type": "code",
   "execution_count": 3,
   "metadata": {},
   "outputs": [],
   "source": [
    "texts_of_interest = [\n",
    "    'cicero/cat1.txt',\n",
    "    'cicero/cael.txt',\n",
    "    'vergil/aen1.txt',\n",
    "    'vergil/aen4.txt',\n",
    "    'vergil/aen6.txt',\n",
    "    'caesar/gall1.txt',\n",
    "    'ovid/ovid.met1.txt',\n",
    "    'catullus.txt',\n",
    "    'tacitus/tac.ann1.txt',\n",
    "    'livy/liv.1.txt'\n",
    "]"
   ]
  },
  {
   "cell_type": "markdown",
   "metadata": {},
   "source": [
    "For each text, we need to remove extraeneous characters and split it into tokens."
   ]
  },
  {
   "cell_type": "code",
   "execution_count": 4,
   "metadata": {},
   "outputs": [],
   "source": [
    "tokens = []\n",
    "pattern = re.compile('[^a-zA-Z]')\n",
    "for text_path in texts_of_interest:\n",
    "    text_path = path_to_texts + text_path\n",
    "    with open(text_path) as file:\n",
    "        text = file.read()\n",
    "    clean_text = pattern.sub(' ', text).lower().strip()\n",
    "    text_tokens = [t for t in clean_text.split(' ') if t != '']\n",
    "    tokens += text_tokens"
   ]
  },
  {
   "cell_type": "markdown",
   "metadata": {},
   "source": [
    "We then lemmatize the tokens to normalize the vocabulary counts."
   ]
  },
  {
   "cell_type": "code",
   "execution_count": 5,
   "metadata": {},
   "outputs": [],
   "source": [
    "lemmatizer = BackoffLatinLemmatizer()\n",
    "vocab = [l[1] for l in lemmatizer.lemmatize(tokens)]"
   ]
  },
  {
   "cell_type": "code",
   "execution_count": 6,
   "metadata": {},
   "outputs": [],
   "source": [
    "frequencies = Counter(vocab)"
   ]
  },
  {
   "cell_type": "code",
   "execution_count": 7,
   "metadata": {},
   "outputs": [
    {
     "data": {
      "text/plain": [
       "[('sum', 1992),\n",
       " ('et', 1840),\n",
       " ('qui', 1833),\n",
       " ('in', 1370),\n",
       " ('is', 904),\n",
       " ('hic', 902),\n",
       " ('ad', 749),\n",
       " ('non', 741),\n",
       " ('tu', 665),\n",
       " ('cum2', 618)]"
      ]
     },
     "execution_count": 7,
     "metadata": {},
     "output_type": "execute_result"
    }
   ],
   "source": [
    "sorted_frequencies = sorted(frequencies.items(), key=operator.itemgetter(1), reverse=True)\n",
    "sorted_frequencies[:10]"
   ]
  },
  {
   "cell_type": "markdown",
   "metadata": {},
   "source": [
    "Now we set some threshold of percent of known frequent words. For this experiment, we say the reader knows the top 70% of frequent words in this vocabulary."
   ]
  },
  {
   "cell_type": "code",
   "execution_count": 8,
   "metadata": {},
   "outputs": [],
   "source": [
    "perc_of_vocab = 0.70\n",
    "known_words = [w[0] for w in sorted_frequencies][:int(perc_of_vocab*len(sorted_frequencies))]"
   ]
  },
  {
   "cell_type": "markdown",
   "metadata": {},
   "source": [
    "Next we take a fairly difficult text and see how many words fall outside of our known vocabulary."
   ]
  },
  {
   "cell_type": "code",
   "execution_count": 9,
   "metadata": {},
   "outputs": [],
   "source": [
    "propertius_1_1 = \"\"\"\n",
    "Cynthia prima suis miserum me cepit ocellis,\n",
    "    contactum nullis ante cupidinibus.\n",
    "tum mihi constantis deiecit lumina fastus\n",
    "    et caput impositis pressit Amor pedibus,\n",
    "donec me docuit castas odisse puellas                 5\n",
    "    improbus, et nullo vivere consilio.\n",
    "ei mihi, iam toto furor hic non deficit anno,\n",
    "    cum tamen adversos cogor habere deos.\n",
    "Milanion nullos fugiendo, Tulle, labores\n",
    "    saevitiam durae contudit Iasidos.                 10\n",
    "nam modo Partheniis amens errabat in antris,\n",
    "    rursus in hirsutas ibat et ille feras;\n",
    "ille etiam Hylaei percussus vulnere rami\n",
    "    saucius Arcadiis rupibus ingemuit.\n",
    "ergo velocem potuit domuisse puellam:                 15\n",
    "    tantum in amore fides et benefacta valent.\n",
    "in me tardus Amor non ullas cogitat artes,\n",
    "    nec meminit notas, ut prius, ire vias.\n",
    "at vos, deductae quibus est pellacia lunae\n",
    "    et labor in magicis sacra piare focis,                 20\n",
    "en agedum dominae mentem convertite nostrae,\n",
    "    et facite illa meo palleat ore magis!\n",
    "tunc ego crediderim Manes et sidera vobis\n",
    "    posse Cytinaeis ducere carminibus.\n",
    "aut vos, qui sero lapsum revocatis, amici,                 25\n",
    "    quaerite non sani pectoris auxilia.\n",
    "fortiter et ferrum saevos patiemur et ignes,\n",
    "    sit modo libertas quae velit ira loqui.\n",
    "ferte per extremas gentes et ferte per undas,\n",
    "    qua non ulla meum femina norit iter.                 30\n",
    "vos remanete, quibus facili deus annuit aure,\n",
    "    sitis et in tuto semper amore pares.\n",
    "nam me nostra Venus noctes exercet amaras,\n",
    "    et nullo vacuus tempore defit Amor.\n",
    "hoc, moneo, vitate malum: sua quemque moretur                 35\n",
    "    cura, neque assueto mutet amore torum.\n",
    "quod si quis monitis tardas adverterit aures,\n",
    "    heu referet quanto verba dolore mea!\n",
    "\"\"\""
   ]
  },
  {
   "cell_type": "code",
   "execution_count": 10,
   "metadata": {},
   "outputs": [],
   "source": [
    "propertius_1_1 = pattern.sub(' ', propertius_1_1).strip()\n",
    "pro_1_1_lemmata = lemmatizer.lemmatize(propertius_1_1.split(' '))\n",
    "pro_1_1_lemmata = [l for l in pro_1_1_lemmata if l[0] != '']"
   ]
  },
  {
   "cell_type": "markdown",
   "metadata": {},
   "source": [
    "Below are words that are in the poem but not in the known vocabulary. Most are proper nouns but 8 are not."
   ]
  },
  {
   "cell_type": "code",
   "execution_count": 11,
   "metadata": {},
   "outputs": [
    {
     "data": {
      "text/plain": [
       "{('Amor', 'Amor'),\n",
       " ('Arcadiis', 'Arcadius'),\n",
       " ('Cynthia', 'Cynthius'),\n",
       " ('Cytinaeis', 'Cytinaeis'),\n",
       " ('Hylaei', 'Hylaeus'),\n",
       " ('Iasidos', 'Iasidos'),\n",
       " ('Manes', 'Manes'),\n",
       " ('Milanion', 'Milanion'),\n",
       " ('Partheniis', 'Parthenia'),\n",
       " ('Tulle', 'Tullus'),\n",
       " ('Venus', 'Venus1'),\n",
       " ('benefacta', 'benefacio'),\n",
       " ('castas', 'castus'),\n",
       " ('fastus', 'fastus'),\n",
       " ('focis', 'focus'),\n",
       " ('hirsutas', 'hirsutus'),\n",
       " ('magicis', 'magicus'),\n",
       " ('pellacia', 'pellacia'),\n",
       " ('vitate', 'vitas')}"
      ]
     },
     "execution_count": 11,
     "metadata": {},
     "output_type": "execute_result"
    }
   ],
   "source": [
    "set([l for l in pro_1_1_lemmata if l[1] not in known_words])"
   ]
  },
  {
   "cell_type": "code",
   "execution_count": 12,
   "metadata": {},
   "outputs": [
    {
     "data": {
      "text/plain": [
       "0.03902439024390244"
      ]
     },
     "execution_count": 12,
     "metadata": {},
     "output_type": "execute_result"
    }
   ],
   "source": [
    "8 / len(set(pro_1_1_lemmata))"
   ]
  },
  {
   "cell_type": "markdown",
   "metadata": {},
   "source": [
    "Proper nouns aside, if a reader knew all of the known words, they would only have trouble with about 4% of the vocabulary in this poem."
   ]
  },
  {
   "cell_type": "code",
   "execution_count": null,
   "metadata": {},
   "outputs": [],
   "source": []
  }
 ],
 "metadata": {
  "kernelspec": {
   "display_name": "Python 3",
   "language": "python",
   "name": "python3"
  },
  "language_info": {
   "codemirror_mode": {
    "name": "ipython",
    "version": 3
   },
   "file_extension": ".py",
   "mimetype": "text/x-python",
   "name": "python",
   "nbconvert_exporter": "python",
   "pygments_lexer": "ipython3",
   "version": "3.7.1"
  }
 },
 "nbformat": 4,
 "nbformat_minor": 2
}
