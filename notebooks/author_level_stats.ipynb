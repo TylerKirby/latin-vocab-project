{
 "cells": [
  {
   "cell_type": "code",
   "execution_count": 11,
   "metadata": {
    "collapsed": true
   },
   "outputs": [],
   "source": [
    "import pandas as pd\n",
    "from matplotlib import pyplot as plt"
   ]
  },
  {
   "cell_type": "code",
   "execution_count": 12,
   "outputs": [],
   "source": [
    "author_df = pd.read_csv(\"../analytics/author_level_analytics.csv\")"
   ],
   "metadata": {
    "collapsed": false,
    "pycharm": {
     "name": "#%%\n"
    }
   }
  },
  {
   "cell_type": "code",
   "execution_count": 13,
   "outputs": [
    {
     "data": {
      "text/plain": "       Unnamed: 0       TTR        HR           R  R_scaled\n0         curtius  0.066677  0.251656  122.052889  0.437035\n1      germanicus  0.284471  0.480676  135.032294  0.952659\n2  carmina_pripea  0.353924  0.609973  125.894025  0.589629\n3   pliny_younger  0.065237  0.294073  117.813751  0.268630\n4     pliny_maior  0.118743  0.415071  125.597445  0.577847",
      "text/html": "<div>\n<style scoped>\n    .dataframe tbody tr th:only-of-type {\n        vertical-align: middle;\n    }\n\n    .dataframe tbody tr th {\n        vertical-align: top;\n    }\n\n    .dataframe thead th {\n        text-align: right;\n    }\n</style>\n<table border=\"1\" class=\"dataframe\">\n  <thead>\n    <tr style=\"text-align: right;\">\n      <th></th>\n      <th>Unnamed: 0</th>\n      <th>TTR</th>\n      <th>HR</th>\n      <th>R</th>\n      <th>R_scaled</th>\n    </tr>\n  </thead>\n  <tbody>\n    <tr>\n      <th>0</th>\n      <td>curtius</td>\n      <td>0.066677</td>\n      <td>0.251656</td>\n      <td>122.052889</td>\n      <td>0.437035</td>\n    </tr>\n    <tr>\n      <th>1</th>\n      <td>germanicus</td>\n      <td>0.284471</td>\n      <td>0.480676</td>\n      <td>135.032294</td>\n      <td>0.952659</td>\n    </tr>\n    <tr>\n      <th>2</th>\n      <td>carmina_pripea</td>\n      <td>0.353924</td>\n      <td>0.609973</td>\n      <td>125.894025</td>\n      <td>0.589629</td>\n    </tr>\n    <tr>\n      <th>3</th>\n      <td>pliny_younger</td>\n      <td>0.065237</td>\n      <td>0.294073</td>\n      <td>117.813751</td>\n      <td>0.268630</td>\n    </tr>\n    <tr>\n      <th>4</th>\n      <td>pliny_maior</td>\n      <td>0.118743</td>\n      <td>0.415071</td>\n      <td>125.597445</td>\n      <td>0.577847</td>\n    </tr>\n  </tbody>\n</table>\n</div>"
     },
     "execution_count": 13,
     "metadata": {},
     "output_type": "execute_result"
    }
   ],
   "source": [
    "author_df.head()"
   ],
   "metadata": {
    "collapsed": false,
    "pycharm": {
     "name": "#%%\n"
    }
   }
  },
  {
   "cell_type": "code",
   "execution_count": 14,
   "outputs": [
    {
     "data": {
      "text/plain": "<AxesSubplot:>"
     },
     "execution_count": 14,
     "metadata": {},
     "output_type": "execute_result"
    },
    {
     "data": {
      "text/plain": "<Figure size 432x288 with 1 Axes>",
      "image/png": "[encoded data removed]"
     },
     "metadata": {
      "needs_background": "light"
     },
     "output_type": "display_data"
    }
   ],
   "source": [
    "# Histogram of TTR\n",
    "author_df[\"TTR\"].hist()"
   ],
   "metadata": {
    "collapsed": false,
    "pycharm": {
     "name": "#%%\n"
    }
   }
  },
  {
   "cell_type": "code",
   "execution_count": 15,
   "outputs": [
    {
     "data": {
      "text/plain": "<AxesSubplot:>"
     },
     "execution_count": 15,
     "metadata": {},
     "output_type": "execute_result"
    },
    {
     "data": {
      "text/plain": "<Figure size 432x288 with 1 Axes>",
      "image/png": "[encoded data removed]"
     },
     "metadata": {
      "needs_background": "light"
     },
     "output_type": "display_data"
    }
   ],
   "source": [
    "# Histogram of HR\n",
    "author_df[\"HR\"].hist()"
   ],
   "metadata": {
    "collapsed": false,
    "pycharm": {
     "name": "#%%\n"
    }
   }
  },
  {
   "cell_type": "code",
   "execution_count": 16,
   "outputs": [
    {
     "data": {
      "text/plain": "<AxesSubplot:>"
     },
     "execution_count": 16,
     "metadata": {},
     "output_type": "execute_result"
    },
    {
     "data": {
      "text/plain": "<Figure size 432x288 with 1 Axes>",
      "image/png": "[encoded data removed]"
     },
     "metadata": {
      "needs_background": "light"
     },
     "output_type": "display_data"
    }
   ],
   "source": [
    "# Histogram for R scaled\n",
    "author_df[\"R_scaled\"].hist()"
   ],
   "metadata": {
    "collapsed": false,
    "pycharm": {
     "name": "#%%\n"
    }
   }
  },
  {
   "cell_type": "code",
   "execution_count": 17,
   "outputs": [
    {
     "data": {
      "text/plain": "            Unnamed: 0       TTR        HR           R  R_scaled\n1           germanicus  0.284471  0.480676  135.032294  0.952659\n2       carmina_pripea  0.353924  0.609973  125.894025  0.589629\n5              persius  0.393357  0.595899  134.661225  0.937917\n9   calpurnius_siculus  0.338516  0.556797  132.754017  0.862151\n16           petronius  0.154482  0.407996  126.076212  0.596867\n17            tibullus  0.200983  0.410849  128.777390  0.704175\n21           suplpicia  0.659836  0.776398  117.949324  0.274016\n30            grattius  0.387774  0.585987  131.038040  0.793982\n33             juvenal  0.166916  0.394103  129.260109  0.723351\n44            catullus  0.228586  0.494946  127.386106  0.648904\n45        ilias_latina  0.270108  0.459048  132.661249  0.858466\n46      aug_res_gestae  0.337430  0.588771  120.617461  0.380011",
      "text/html": "<div>\n<style scoped>\n    .dataframe tbody tr th:only-of-type {\n        vertical-align: middle;\n    }\n\n    .dataframe tbody tr th {\n        vertical-align: top;\n    }\n\n    .dataframe thead th {\n        text-align: right;\n    }\n</style>\n<table border=\"1\" class=\"dataframe\">\n  <thead>\n    <tr style=\"text-align: right;\">\n      <th></th>\n      <th>Unnamed: 0</th>\n      <th>TTR</th>\n      <th>HR</th>\n      <th>R</th>\n      <th>R_scaled</th>\n    </tr>\n  </thead>\n  <tbody>\n    <tr>\n      <th>1</th>\n      <td>germanicus</td>\n      <td>0.284471</td>\n      <td>0.480676</td>\n      <td>135.032294</td>\n      <td>0.952659</td>\n    </tr>\n    <tr>\n      <th>2</th>\n      <td>carmina_pripea</td>\n      <td>0.353924</td>\n      <td>0.609973</td>\n      <td>125.894025</td>\n      <td>0.589629</td>\n    </tr>\n    <tr>\n      <th>5</th>\n      <td>persius</td>\n      <td>0.393357</td>\n      <td>0.595899</td>\n      <td>134.661225</td>\n      <td>0.937917</td>\n    </tr>\n    <tr>\n      <th>9</th>\n      <td>calpurnius_siculus</td>\n      <td>0.338516</td>\n      <td>0.556797</td>\n      <td>132.754017</td>\n      <td>0.862151</td>\n    </tr>\n    <tr>\n      <th>16</th>\n      <td>petronius</td>\n      <td>0.154482</td>\n      <td>0.407996</td>\n      <td>126.076212</td>\n      <td>0.596867</td>\n    </tr>\n    <tr>\n      <th>17</th>\n      <td>tibullus</td>\n      <td>0.200983</td>\n      <td>0.410849</td>\n      <td>128.777390</td>\n      <td>0.704175</td>\n    </tr>\n    <tr>\n      <th>21</th>\n      <td>suplpicia</td>\n      <td>0.659836</td>\n      <td>0.776398</td>\n      <td>117.949324</td>\n      <td>0.274016</td>\n    </tr>\n    <tr>\n      <th>30</th>\n      <td>grattius</td>\n      <td>0.387774</td>\n      <td>0.585987</td>\n      <td>131.038040</td>\n      <td>0.793982</td>\n    </tr>\n    <tr>\n      <th>33</th>\n      <td>juvenal</td>\n      <td>0.166916</td>\n      <td>0.394103</td>\n      <td>129.260109</td>\n      <td>0.723351</td>\n    </tr>\n    <tr>\n      <th>44</th>\n      <td>catullus</td>\n      <td>0.228586</td>\n      <td>0.494946</td>\n      <td>127.386106</td>\n      <td>0.648904</td>\n    </tr>\n    <tr>\n      <th>45</th>\n      <td>ilias_latina</td>\n      <td>0.270108</td>\n      <td>0.459048</td>\n      <td>132.661249</td>\n      <td>0.858466</td>\n    </tr>\n    <tr>\n      <th>46</th>\n      <td>aug_res_gestae</td>\n      <td>0.337430</td>\n      <td>0.588771</td>\n      <td>120.617461</td>\n      <td>0.380011</td>\n    </tr>\n  </tbody>\n</table>\n</div>"
     },
     "execution_count": 17,
     "metadata": {},
     "output_type": "execute_result"
    }
   ],
   "source": [
    "# Authors in the top quantile for the text token ration measure\n",
    "author_df.loc[author_df[\"TTR\"] > author_df[\"TTR\"].quantile(0.75)]"
   ],
   "metadata": {
    "collapsed": false,
    "pycharm": {
     "name": "#%%\n"
    }
   }
  },
  {
   "cell_type": "code",
   "execution_count": 18,
   "outputs": [
    {
     "data": {
      "text/plain": "            Unnamed: 0       TTR        HR           R  R_scaled\n1           germanicus  0.284471  0.480676  135.032294  0.952659\n2       carmina_pripea  0.353924  0.609973  125.894025  0.589629\n4          pliny_maior  0.118743  0.415071  125.597445  0.577847\n5              persius  0.393357  0.595899  134.661225  0.937917\n7             asconius  0.150275  0.446841  114.575279  0.139978\n9   calpurnius_siculus  0.338516  0.556797  132.754017  0.862151\n21           suplpicia  0.659836  0.776398  117.949324  0.274016\n30            grattius  0.387774  0.585987  131.038040  0.793982\n36      pomponius_mela  0.152653  0.436847  120.907707  0.391541\n44            catullus  0.228586  0.494946  127.386106  0.648904\n45        ilias_latina  0.270108  0.459048  132.661249  0.858466\n46      aug_res_gestae  0.337430  0.588771  120.617461  0.380011",
      "text/html": "<div>\n<style scoped>\n    .dataframe tbody tr th:only-of-type {\n        vertical-align: middle;\n    }\n\n    .dataframe tbody tr th {\n        vertical-align: top;\n    }\n\n    .dataframe thead th {\n        text-align: right;\n    }\n</style>\n<table border=\"1\" class=\"dataframe\">\n  <thead>\n    <tr style=\"text-align: right;\">\n      <th></th>\n      <th>Unnamed: 0</th>\n      <th>TTR</th>\n      <th>HR</th>\n      <th>R</th>\n      <th>R_scaled</th>\n    </tr>\n  </thead>\n  <tbody>\n    <tr>\n      <th>1</th>\n      <td>germanicus</td>\n      <td>0.284471</td>\n      <td>0.480676</td>\n      <td>135.032294</td>\n      <td>0.952659</td>\n    </tr>\n    <tr>\n      <th>2</th>\n      <td>carmina_pripea</td>\n      <td>0.353924</td>\n      <td>0.609973</td>\n      <td>125.894025</td>\n      <td>0.589629</td>\n    </tr>\n    <tr>\n      <th>4</th>\n      <td>pliny_maior</td>\n      <td>0.118743</td>\n      <td>0.415071</td>\n      <td>125.597445</td>\n      <td>0.577847</td>\n    </tr>\n    <tr>\n      <th>5</th>\n      <td>persius</td>\n      <td>0.393357</td>\n      <td>0.595899</td>\n      <td>134.661225</td>\n      <td>0.937917</td>\n    </tr>\n    <tr>\n      <th>7</th>\n      <td>asconius</td>\n      <td>0.150275</td>\n      <td>0.446841</td>\n      <td>114.575279</td>\n      <td>0.139978</td>\n    </tr>\n    <tr>\n      <th>9</th>\n      <td>calpurnius_siculus</td>\n      <td>0.338516</td>\n      <td>0.556797</td>\n      <td>132.754017</td>\n      <td>0.862151</td>\n    </tr>\n    <tr>\n      <th>21</th>\n      <td>suplpicia</td>\n      <td>0.659836</td>\n      <td>0.776398</td>\n      <td>117.949324</td>\n      <td>0.274016</td>\n    </tr>\n    <tr>\n      <th>30</th>\n      <td>grattius</td>\n      <td>0.387774</td>\n      <td>0.585987</td>\n      <td>131.038040</td>\n      <td>0.793982</td>\n    </tr>\n    <tr>\n      <th>36</th>\n      <td>pomponius_mela</td>\n      <td>0.152653</td>\n      <td>0.436847</td>\n      <td>120.907707</td>\n      <td>0.391541</td>\n    </tr>\n    <tr>\n      <th>44</th>\n      <td>catullus</td>\n      <td>0.228586</td>\n      <td>0.494946</td>\n      <td>127.386106</td>\n      <td>0.648904</td>\n    </tr>\n    <tr>\n      <th>45</th>\n      <td>ilias_latina</td>\n      <td>0.270108</td>\n      <td>0.459048</td>\n      <td>132.661249</td>\n      <td>0.858466</td>\n    </tr>\n    <tr>\n      <th>46</th>\n      <td>aug_res_gestae</td>\n      <td>0.337430</td>\n      <td>0.588771</td>\n      <td>120.617461</td>\n      <td>0.380011</td>\n    </tr>\n  </tbody>\n</table>\n</div>"
     },
     "execution_count": 18,
     "metadata": {},
     "output_type": "execute_result"
    }
   ],
   "source": [
    "# Authors in the top quantile for the hapax richness measure\n",
    "author_df.loc[author_df[\"HR\"] > author_df[\"HR\"].quantile(0.75)]"
   ],
   "metadata": {
    "collapsed": false,
    "pycharm": {
     "name": "#%%\n"
    }
   }
  },
  {
   "cell_type": "code",
   "execution_count": 19,
   "outputs": [
    {
     "data": {
      "text/plain": "            Unnamed: 0       TTR        HR           R  R_scaled\n1           germanicus  0.284471  0.480676  135.032294  0.952659\n5              persius  0.393357  0.595899  134.661225  0.937917\n8     valerius_flaccus  0.105210  0.305698  132.317978  0.844829\n9   calpurnius_siculus  0.338516  0.556797  132.754017  0.862151\n24               lucan  0.091623  0.296630  131.149823  0.798422\n28              vergil  0.070064  0.277281  131.892756  0.827936\n29              horace  0.126504  0.357435  130.733715  0.781892\n30            grattius  0.387774  0.585987  131.038040  0.793982\n31             statius  0.062125  0.226309  135.316682  0.963956\n33             juvenal  0.166916  0.394103  129.260109  0.723351\n37              silius  0.068549  0.242379  136.223983  1.000000\n45        ilias_latina  0.270108  0.459048  132.661249  0.858466",
      "text/html": "<div>\n<style scoped>\n    .dataframe tbody tr th:only-of-type {\n        vertical-align: middle;\n    }\n\n    .dataframe tbody tr th {\n        vertical-align: top;\n    }\n\n    .dataframe thead th {\n        text-align: right;\n    }\n</style>\n<table border=\"1\" class=\"dataframe\">\n  <thead>\n    <tr style=\"text-align: right;\">\n      <th></th>\n      <th>Unnamed: 0</th>\n      <th>TTR</th>\n      <th>HR</th>\n      <th>R</th>\n      <th>R_scaled</th>\n    </tr>\n  </thead>\n  <tbody>\n    <tr>\n      <th>1</th>\n      <td>germanicus</td>\n      <td>0.284471</td>\n      <td>0.480676</td>\n      <td>135.032294</td>\n      <td>0.952659</td>\n    </tr>\n    <tr>\n      <th>5</th>\n      <td>persius</td>\n      <td>0.393357</td>\n      <td>0.595899</td>\n      <td>134.661225</td>\n      <td>0.937917</td>\n    </tr>\n    <tr>\n      <th>8</th>\n      <td>valerius_flaccus</td>\n      <td>0.105210</td>\n      <td>0.305698</td>\n      <td>132.317978</td>\n      <td>0.844829</td>\n    </tr>\n    <tr>\n      <th>9</th>\n      <td>calpurnius_siculus</td>\n      <td>0.338516</td>\n      <td>0.556797</td>\n      <td>132.754017</td>\n      <td>0.862151</td>\n    </tr>\n    <tr>\n      <th>24</th>\n      <td>lucan</td>\n      <td>0.091623</td>\n      <td>0.296630</td>\n      <td>131.149823</td>\n      <td>0.798422</td>\n    </tr>\n    <tr>\n      <th>28</th>\n      <td>vergil</td>\n      <td>0.070064</td>\n      <td>0.277281</td>\n      <td>131.892756</td>\n      <td>0.827936</td>\n    </tr>\n    <tr>\n      <th>29</th>\n      <td>horace</td>\n      <td>0.126504</td>\n      <td>0.357435</td>\n      <td>130.733715</td>\n      <td>0.781892</td>\n    </tr>\n    <tr>\n      <th>30</th>\n      <td>grattius</td>\n      <td>0.387774</td>\n      <td>0.585987</td>\n      <td>131.038040</td>\n      <td>0.793982</td>\n    </tr>\n    <tr>\n      <th>31</th>\n      <td>statius</td>\n      <td>0.062125</td>\n      <td>0.226309</td>\n      <td>135.316682</td>\n      <td>0.963956</td>\n    </tr>\n    <tr>\n      <th>33</th>\n      <td>juvenal</td>\n      <td>0.166916</td>\n      <td>0.394103</td>\n      <td>129.260109</td>\n      <td>0.723351</td>\n    </tr>\n    <tr>\n      <th>37</th>\n      <td>silius</td>\n      <td>0.068549</td>\n      <td>0.242379</td>\n      <td>136.223983</td>\n      <td>1.000000</td>\n    </tr>\n    <tr>\n      <th>45</th>\n      <td>ilias_latina</td>\n      <td>0.270108</td>\n      <td>0.459048</td>\n      <td>132.661249</td>\n      <td>0.858466</td>\n    </tr>\n  </tbody>\n</table>\n</div>"
     },
     "execution_count": 19,
     "metadata": {},
     "output_type": "execute_result"
    }
   ],
   "source": [
    "# Authors in the top quantile for the scaled rareness measure\n",
    "author_df.loc[author_df[\"R_scaled\"] > author_df[\"R_scaled\"].quantile(0.75)]"
   ],
   "metadata": {
    "collapsed": false,
    "pycharm": {
     "name": "#%%\n"
    }
   }
  },
  {
   "cell_type": "code",
   "execution_count": 20,
   "outputs": [
    {
     "data": {
      "text/plain": "               TTR        HR         R  R_scaled\nTTR       1.000000  0.952136  0.251737  0.251737\nHR        0.952136  1.000000  0.113167  0.113167\nR         0.251737  0.113167  1.000000  1.000000\nR_scaled  0.251737  0.113167  1.000000  1.000000",
      "text/html": "<div>\n<style scoped>\n    .dataframe tbody tr th:only-of-type {\n        vertical-align: middle;\n    }\n\n    .dataframe tbody tr th {\n        vertical-align: top;\n    }\n\n    .dataframe thead th {\n        text-align: right;\n    }\n</style>\n<table border=\"1\" class=\"dataframe\">\n  <thead>\n    <tr style=\"text-align: right;\">\n      <th></th>\n      <th>TTR</th>\n      <th>HR</th>\n      <th>R</th>\n      <th>R_scaled</th>\n    </tr>\n  </thead>\n  <tbody>\n    <tr>\n      <th>TTR</th>\n      <td>1.000000</td>\n      <td>0.952136</td>\n      <td>0.251737</td>\n      <td>0.251737</td>\n    </tr>\n    <tr>\n      <th>HR</th>\n      <td>0.952136</td>\n      <td>1.000000</td>\n      <td>0.113167</td>\n      <td>0.113167</td>\n    </tr>\n    <tr>\n      <th>R</th>\n      <td>0.251737</td>\n      <td>0.113167</td>\n      <td>1.000000</td>\n      <td>1.000000</td>\n    </tr>\n    <tr>\n      <th>R_scaled</th>\n      <td>0.251737</td>\n      <td>0.113167</td>\n      <td>1.000000</td>\n      <td>1.000000</td>\n    </tr>\n  </tbody>\n</table>\n</div>"
     },
     "execution_count": 20,
     "metadata": {},
     "output_type": "execute_result"
    }
   ],
   "source": [
    "# Correlation coefficients of each measure\n",
    "author_df.corr()"
   ],
   "metadata": {
    "collapsed": false,
    "pycharm": {
     "name": "#%%\n"
    }
   }
  },
  {
   "cell_type": "code",
   "execution_count": 20,
   "outputs": [],
   "source": [],
   "metadata": {
    "collapsed": false,
    "pycharm": {
     "name": "#%%\n"
    }
   }
  }
 ],
 "metadata": {
  "kernelspec": {
   "display_name": "Python 3",
   "language": "python",
   "name": "python3"
  },
  "language_info": {
   "codemirror_mode": {
    "name": "ipython",
    "version": 2
   },
   "file_extension": ".py",
   "mimetype": "text/x-python",
   "name": "python",
   "nbconvert_exporter": "python",
   "pygments_lexer": "ipython2",
   "version": "2.7.6"
  }
 },
 "nbformat": 4,
 "nbformat_minor": 0
}