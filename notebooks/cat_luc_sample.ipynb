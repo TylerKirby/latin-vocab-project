{
 "cells": [
  {
   "cell_type": "code",
   "execution_count": 1,
   "metadata": {
    "collapsed": true
   },
   "outputs": [],
   "source": [
    "from utils.corpus import CorpusAnalytics"
   ]
  },
  {
   "cell_type": "code",
   "execution_count": 2,
   "outputs": [],
   "source": [
    "cat_luc_corpus = [\n",
    "    \"/Users/tyler/cltk_data/latin/text/latin_text_latin_library/lucretius/lucretius1.txt\",\n",
    "    \"/Users/tyler/cltk_data/latin/text/latin_text_latin_library/lucretius/lucretius2.txt\",\n",
    "    \"/Users/tyler/cltk_data/latin/text/latin_text_latin_library/lucretius/lucretius3.txt\",\n",
    "    \"/Users/tyler/cltk_data/latin/text/latin_text_latin_library/lucretius/lucretius4.txt\",\n",
    "    \"/Users/tyler/cltk_data/latin/text/latin_text_latin_library/lucretius/lucretius5.txt\",\n",
    "    \"/Users/tyler/cltk_data/latin/text/latin_text_latin_library/lucretius/lucretius6.txt\",\n",
    "    \"/Users/tyler/cltk_data/latin/text/latin_text_latin_library/catullus.txt\"\n",
    "]\n",
    "analytics = CorpusAnalytics(\"lat\")"
   ],
   "metadata": {
    "collapsed": false,
    "pycharm": {
     "name": "#%%\n"
    }
   }
  },
  {
   "cell_type": "code",
   "execution_count": 3,
   "outputs": [],
   "source": [
    "processed_texts = analytics.process_corpus(cat_luc_corpus)"
   ],
   "metadata": {
    "collapsed": false,
    "pycharm": {
     "name": "#%%\n"
    }
   }
  },
  {
   "cell_type": "code",
   "execution_count": 4,
   "outputs": [],
   "source": [
    "luc_1_freq = processed_texts[0].lemmata_frequencies"
   ],
   "metadata": {
    "collapsed": false,
    "pycharm": {
     "name": "#%%\n"
    }
   }
  },
  {
   "cell_type": "code",
   "execution_count": 5,
   "outputs": [
    {
     "data": {
      "text/plain": "{'qui': 242,\n 'sum': 210,\n 'res': 194,\n 'et': 131,\n 'possum': 124,\n 'in': 116,\n 'neque': 104,\n 'corpus': 101,\n 'omnis': 98,\n 'atque': 71,\n 'natura': 62,\n 'video': 58,\n 'sui': 53,\n 'ratio': 51,\n 'hic': 49,\n 'ut': 48,\n 'inanis': 48,\n 'terra': 46,\n 'ex': 46,\n 'si': 46,\n 'per': 45,\n 'quisque': 45,\n 'is': 45,\n 'ignis': 42,\n 'non': 39,\n 'cum2': 38,\n 'tu': 37,\n 'nam': 37,\n 'multus': 36,\n 'nullus': 35,\n 'ab': 34,\n 'pars': 34,\n 'quoniam': 33,\n 'tempus': 33,\n 'quo': 31,\n 'de': 29,\n 'fio': 28,\n 'nihil': 28,\n 'tamen': 27,\n 'alius': 26,\n 'primordius': 26,\n 'consto': 25,\n 'igitur': 25,\n 'primus': 24,\n 'enim': 24,\n 'ipse': 24,\n 'sed': 24,\n 'ad': 24,\n 'iam': 24,\n 'creo': 24,\n 'cum1': 24,\n 'verus': 23,\n 'porro': 23,\n 'magnus': 23,\n 'inter': 23,\n 'caelum': 22,\n 'dico': 21,\n 'nos': 21,\n 'necesse': 21,\n 'quam': 21,\n 'ille': 20,\n 'certus': 20,\n 'noster': 19,\n 'ante': 19,\n 'unde': 19,\n 'quis': 19,\n 'nunc': 19,\n 'praeterea': 19,\n 'ullus': 19,\n 'at': 18,\n 'solidus': 18,\n 'denique': 17,\n 'finis': 17,\n 'spatium': 17,\n 'nisi': 17,\n 'magis': 16,\n 'aeternus': 16,\n 'suus': 16,\n 'facio': 16,\n 'queo': 16,\n 'habeo': 16,\n 'idem': 16,\n 'e': 16,\n 'aut': 16,\n 'mare': 14,\n 'sine': 14,\n 'quisquam': 14,\n 'animus': 14,\n 'contra': 14,\n 'ne': 14,\n 'cerno': 14,\n 'uti': 14,\n 'materia': 14,\n 'debeo': 14,\n 'infinitus': 14,\n 'quoque': 14,\n 'venio': 13,\n 'summus': 13,\n 'gigno': 13,\n 'quia': 13,\n 'locus': 13,\n 'sol': 12,\n 'do': 12,\n 'finio': 12,\n 'mirus': 12,\n 'semen': 12,\n 'nihilum': 12,\n 'consisto': 12,\n 'materies': 12,\n 'dum': 12,\n 'puto': 12,\n 'aer': 12,\n 'paruus': 12,\n 'umor': 12,\n 'etiam': 12,\n 'sensus': 12,\n 'cogo': 12,\n 'genus': 11,\n 'vis': 11,\n 'ita': 11,\n 'os': 11,\n 'longus': 11,\n 'quidam': 11,\n 'gero': 11,\n 'ubi': 11,\n 'tum': 11,\n 'constaris': 11,\n 'fero': 11,\n 'cresco': 11,\n 'ni': 11,\n 'fundus': 11,\n 'lumen': 10,\n 'ago': 10,\n 'talis': 10,\n 'tango': 10,\n 'oculus': 10,\n 'nequeo': 10,\n 'quivis': 10,\n 'teneo': 10,\n 'imber': 10,\n 'cunctus': 10,\n 'haud': 10,\n 'tuus': 9,\n 'simul': 9,\n 'ora': 9,\n 'clarus': 9,\n 'aevum': 9,\n 'volo1': 9,\n 'muto': 9,\n 'alo': 9,\n 'reddo': 9,\n 'parvus': 9,\n 'quin': 9,\n 'copia': 9,\n 'summa': 9,\n 'ordo': 9,\n 'moueo': 9,\n 'aura': 8,\n 'sequor': 8,\n 'ego': 8,\n 'saepe': 8,\n 'sub': 8,\n 'refero': 8,\n 'fors': 8,\n 'pacisco': 8,\n 'quippe': 8,\n 'an': 8,\n 'modus': 8,\n 'vacuus': 8,\n 'relinquo': 8,\n 'verbum': 8,\n 'cibus': 8,\n 'undique': 8,\n 'aqua': 8,\n 'totus': 8,\n 'validus': 8,\n 'sic': 8,\n 'voco': 8,\n 'unus': 8,\n 'credo': 8,\n 'exter': 8,\n 'constituo': 8,\n 'homo': 7,\n 'divus': 7,\n 'tellus': 7,\n 'mons': 7,\n 'versus3': 7,\n 'mortalis': 7,\n 'circum1': 7,\n 'aequus': 7,\n 'ostendo': 7,\n 'ergo': 7,\n 'propter': 7,\n 'tantus': 7,\n 'vinco': 7,\n 'fingo': 7,\n 'mors': 7,\n 'rursum': 7,\n 'reperio': 7,\n 'principium': 7,\n 'hinc': 7,\n 'tueor': 7,\n 'muto1': 7,\n 'augeo': 7,\n 'arbustus': 7,\n 'dissolvo': 7,\n 'nihilis': 7,\n 'pereo': 7,\n 'aetas': 7,\n 'doceo': 7,\n 'item': 7,\n 'unda': 7,\n 'namque': 7,\n 'moveo': 7,\n 'usque': 7,\n 'concedo': 7,\n 'mitto': 7,\n 'frango': 7,\n 'lignum': 7,\n 'medius': 7,\n 'floreo': 6,\n 'dies': 6,\n 'inde': 6,\n 'generatim': 6,\n 'religio': 6,\n 'mens': 6,\n 'quare': 6,\n 'aliqui': 6,\n 'semper': 6,\n 'prior': 6,\n 'penitus': 6,\n 'opus': 6,\n 'arbor': 6,\n 'concilio': 6,\n 'quando': 6,\n 'principia': 6,\n 'postremo': 6,\n 'praeditus': 6,\n 'redeo': 6,\n 'frugis': 6,\n 'saxum': 6,\n 'amitto': 6,\n 'tam': 6,\n 'omnino': 6,\n 'pondus': 6,\n 'scilicet': 6,\n 'deinde': 6,\n 'aliquis': 6,\n 'ceterus': 6,\n 'adeo': 6,\n 'paulum': 6,\n 'plaga': 6,\n 'labor': 5,\n 'animantum': 5,\n 'suavis': 5,\n 'capio': 5,\n 'pectus': 5,\n 'amor': 5,\n 'efficio': 5,\n 'super': 5,\n 'privo': 5,\n 'fulmen': 5,\n 'acer': 5,\n 'elementum': 5,\n 'via': 5,\n 'manus': 5,\n 'quaero': 5,\n 'vita': 5,\n 'expono': 5,\n 'sagax': 5,\n 'materio': 5,\n 'contineo': 5,\n 'confluo': 5,\n 'subeo': 5,\n 'accedo': 5,\n 'fateor': 5,\n 'locum1': 5,\n 'flumen': 5,\n 'caecus': 5,\n 'vel': 5,\n 'minuo': 5,\n 'motus': 5,\n 'maneo': 5,\n 'admisceo': 5,\n 'supra': 5,\n 'evenio': 5,\n 'ardor': 5,\n 'coitus': 5,\n 'pono': 5,\n 'aes': 5,\n 'misceo': 5,\n 'signum': 4,\n 'fugio': 4,\n 'summitto': 4,\n 'pontus': 4,\n 'species': 4,\n 'volucris': 4,\n 'ineo': 4,\n 'pecus': 4,\n 'rapidus': 4,\n 'amnis': 4,\n 'saeculum': 4,\n 'exorior': 4,\n 'ferus': 4,\n 'sancio': 4,\n 'fundo1': 4,\n 'peto': 4,\n 'gravis': 4,\n 'regio': 4,\n 'mundus': 4,\n 'animo': 4,\n 'orior': 4,\n 'altus': 4,\n 'pes': 4,\n 'sanguis': 4,\n 'vir': 4,\n 'par': 4,\n 'sentio': 4,\n 'verto': 4,\n 'turbo': 4,\n 'valeo': 4,\n 'anima': 4,\n 'gens': 4,\n 'clueo': 4,\n 'templum': 4,\n 'meo': 4,\n 'auris': 4,\n 'meus': 4,\n 'resolvo': 4,\n 'fallo': 4,\n 'obscurus': 4,\n 'lingua': 4,\n 'nox': 4,\n 'carmen': 4,\n 'causa': 4,\n 'secerno': 4,\n 'cur': 4,\n 'tener': 4,\n 'annus': 4,\n 'manifestus': 4,\n 'huc': 4,\n 'fetus': 4,\n 'potis': 4,\n 'commune': 4,\n 'transeo': 4,\n 'intus': 4,\n 'aether': 4,\n 'reficio': 4,\n 'silva': 4,\n 'ruo': 4,\n 'vexo': 4,\n 'invenio': 4,\n 'frigus': 4,\n 'stipo': 4,\n 'licet': 4,\n 'rarus': 4,\n 'imus': 4,\n 'autem': 4,\n 'latex': 4,\n 'cognosco': 4,\n 'quasi': 4,\n 'numerus': 4,\n 'abeo': 4,\n 'solvo': 4,\n 'uterque': 4,\n 'alternus': 4,\n 'reparo': 4,\n 'simplicitas': 4,\n 'sto': 4,\n 'varia': 4,\n 'minimus': 4,\n 'similis': 4,\n 'eximo': 4,\n 'diffugio': 4,\n 'retro': 4,\n 'qual': 4,\n 'consimilis': 4,\n 'sive': 4,\n 'alienigena': 4,\n 'tero': 4,\n 'pateo': 4,\n 'viso': 3,\n 'dea': 3,\n 'nubila': 3,\n 'pabulum': 3,\n 'lepor': 3,\n 'pergo': 3,\n 'propago1': 3,\n 'solus': 3,\n 'volo': 3,\n 'quiesco': 3,\n 'pax': 3,\n 'bellum': 3,\n 'pendeo': 3,\n 'semoveo': 3,\n 'sejungo': 3,\n 'polleo': 3,\n 'bene': 3,\n 'humanus': 3,\n 'vito': 3,\n 'insto': 3,\n 'tollo': 3,\n 'murmur': 3,\n 'extra': 3,\n 'procedo': 3,\n 'haereo': 3,\n 'ara': 3,\n 'uter': 3,\n 'parens': 3,\n 'ferrum': 3,\n 'lacrima': 3,\n 'mos': 3,\n 'suadeo': 3,\n 'divinitus': 3,\n 'frons': 3,\n 'salio1': 3,\n 'obeo': 3,\n 'adhibeo': 3,\n 'vocaris': 3,\n 'lucidus': 3,\n 'sumo': 3,\n 'umquam': 3,\n 'perspicio': 3,\n 'squamigeri': 3,\n 'soleo': 3,\n 'exeo': 3,\n 'insum': 3,\n 'calor1': 3,\n 'tempestas': 3,\n 'adsum': 3,\n 'coeo': 3,\n 'nilus': 3,\n 'repens': 3,\n 'paulatim': 3,\n 'servo': 3,\n 'bonus': 3,\n 'discidium': 3,\n 'necto': 3,\n 'exsolvo': 3,\n 'animal': 3,\n 'fons': 3,\n 'sidus': 3,\n 'nilis': 3,\n 'revorto': 3,\n 'confacio': 3,\n 'letum': 3,\n 'satis': 3,\n 'incolumis': 3,\n 'ramus': 3,\n 'puer': 3,\n 'uber': 3,\n 'herba': 3,\n 'accipio': 3,\n 'superus': 3,\n 'largior': 3,\n 'conicio': 3,\n 'obsto': 3,\n 'varius1': 3,\n 'calidus': 3,\n 'aestus': 3,\n 'lapis': 3,\n 'praeter': 3,\n 'tribuo': 3,\n 'sino': 3,\n 'vaco': 3,\n 'vario': 3,\n 'careo': 3,\n 'permano': 3,\n 'gutta1': 3,\n 'post': 3,\n 'linquo': 3,\n 'plenus': 3,\n 'eo': 3,\n 'duo': 3,\n 'concursus': 3,\n 'cieo': 3,\n 'opinor': 3,\n 'fatearis': 3,\n 'semel': 3,\n 'calor': 3,\n 'numquam': 3,\n 'aurum': 3,\n 'flamma': 3,\n 'paucus': 3,\n 'purus': 3,\n 'cohibeo': 3,\n 'distinguo': 3,\n 'extat': 3,\n 'dissoluo': 3,\n 'tento': 3,\n 'seco': 3,\n 'reno1': 3,\n 'mollis': 3,\n 'supero': 3,\n 'cacumen': 3,\n 'convenio': 3,\n 'quapropter': 3,\n 'solum': 3,\n 'scio': 3,\n 'liquor2': 3,\n 'flamma1': 3,\n 'ibi': 3,\n 'prorsus2': 3,\n 'nervus': 3,\n 'ideo': 3,\n 'lateo': 3,\n 'loco': 3,\n 'dulcis': 3,\n 'nitor': 3,\n 'lucretius': 2,\n 'voluptas': 2,\n 'subter': 2,\n 'concipio': 2,\n 'advenio': 2,\n 'daedalus': 2,\n 'rideo': 2,\n 'aequor': 2,\n 'niteo': 2,\n 'diffundo': 2,\n 'vigeo': 2,\n 'aerius': 2,\n 'percello': 2,\n 'cor': 2,\n 'fera': 2,\n 'laetus': 2,\n 'cupidus': 2,\n 'induco': 2,\n 'frondifer': 2,\n 'avis': 2,\n 'campus1': 2,\n 'incutio': 2,\n 'pango': 2,\n 'conor': 2,\n 'interea': 2,\n 'moenera': 2,\n 'gremium': 2,\n 'devinco': 2,\n 'pasco': 2,\n 'avidus': 2,\n 'placidus': 2,\n 'iniquus': 2,\n 'defleo': 2,\n 'fruor': 2,\n 'periculum': 2,\n 'ira': 2,\n 'foedus1': 2,\n 'iaceo': 2,\n 'opprimo': 2,\n 'caput': 2,\n 'obsisto': 2,\n 'deus': 2,\n 'virtus': 2,\n 'claustra': 2,\n 'vividus': 2,\n 'moenia': 2,\n 'immensus': 2,\n 'peragro': 2,\n 'potestas': 2,\n 'terminus': 2,\n 'vereor': 2,\n 'rearis': 2,\n 'impius': 2,\n 'como1': 2,\n 'malus': 2,\n 'profundo': 2,\n 'maestus': 2,\n 'celaris': 2,\n 'effundo': 2,\n 'prosum': 2,\n 'deduco': 2,\n 'faustus1': 2,\n 'vates': 2,\n 'mereo': 2,\n 'resto': 2,\n 'facultas': 2,\n 'insinuo': 2,\n 'vasto': 2,\n 'cano': 2,\n 'corona': 2,\n 'etsi': 2,\n 'simulacrum': 2,\n 'commemoro': 2,\n 'coepio': 2,\n 'audio': 2,\n 'amplector': 2,\n 'dispono': 2,\n 'per-emo': 2,\n 'genitale': 2,\n 'suo': 2,\n 'usurparis': 2,\n 'difficilis': 2,\n 'novus': 2,\n 'egestas': 2,\n 'effero1': 2,\n 'demum': 2,\n 'telum': 2,\n 'reor': 2,\n 'modo': 2,\n 'erumpo': 2,\n 'incertum': 2,\n 'partus': 2,\n 'colo': 2,\n 'mater': 2,\n 'alienus': 2,\n 'genital': 2,\n 'utor': 2,\n 'paro': 2,\n 'multo2': 2,\n 'vivo': 2,\n 'praesto': 2,\n 'videlicet': 2,\n 'vomo': 2,\n 'glaeba': 2,\n 'subigo': 2,\n 'sponte': 2,\n 'eripio': 2,\n 'donec': 2,\n 'penetro': 2,\n 'exitium': 2,\n 'patior': 2,\n 're-duco': 2,\n 'praebeo': 2,\n 'externus': 2,\n 'suppedito': 2,\n 'mortal': 2,\n 'inmortal': 2,\n 'vulgo2': 2,\n 'dissimilis': 2,\n 'pro': 2,\n 'novo': 2,\n 'lac': 2,\n 'quicumque': 2,\n 'adjuvo': 2,\n 'revocaris': 2,\n 'diffido': 2,\n 'confitearis': 2,\n 'ingens': 2,\n 'percurro': 2,\n 'sterno': 2,\n 'minax': 2,\n 'verro': 2,\n 'strages': 2,\n 'mollio': 2,\n 'sonitus': 2,\n 'grandis': 2,\n 'creber': 2,\n 'aperio': 2,\n 'naris': 2,\n 'corporeus': 2,\n 'casus': 2,\n 'vulgus': 2,\n 'detero': 2,\n 'viaris': 2,\n 'decedo': 2,\n 'praecludo': 2,\n 'gero1': 2,\n 'erro1': 2,\n 'intactus1': 2,\n 'officium': 2,\n 'exsto': 2,\n 'liquidus': 2,\n 'saeptum': 2,\n 'domorum': 2,\n 'figuro': 2,\n 'levis1': 2,\n 'dedico': 2,\n 'cedo': 2,\n 'piscis': 2,\n 'mutaris': 2,\n 'tandem': 2,\n 'dico2': 2,\n 'compleo': 2,\n 'denserier': 2,\n 'traho': 2,\n 'conduco': 2,\n 'fides': 2,\n 'vestigium': 2,\n 'alid': 2,\n 'caecus1': 2,\n 'haurio': 2,\n 'repeto': 2,\n 'diverto': 2,\n 'usquam': 2,\n 'quoquam': 2,\n 'mearis': 2,\n 'tertius': 2,\n 'exiguus': 2,\n 'sin': 2,\n 'prohibeo': 2,\n 'fungor': 2,\n 'cado': 2,\n 'conjungo': 2,\n 'nusquam': 2,\n 'liquo': 2,\n 'bellus': 2,\n 'accendo2': 2,\n 'stinguo': 2,\n 'vapor': 2,\n 'labefacto': 2,\n 'poculum': 2,\n 'ros': 2,\n 'supernus': 2,\n 'concilium': 2,\n 'extrinsecus1': 2,\n 'redigo': 2,\n 'contingo': 2,\n 'vaporo': 2,\n 'condenso': 2,\n 'quidem': 2,\n 'alter': 2,\n 'ars': 2,\n 'dimidia': 2,\n 'disto': 2,\n 'nego': 2,\n 'pondero': 2,\n 'requiro': 2,\n 'stolidus': 2,\n 'latito': 2,\n 'denseri': 2,\n 'raptim': 2,\n 'jacio': 2,\n 'continuo': 2,\n 'vigesco': 2,\n 'converto': 2,\n 'vanus': 2,\n 'noto': 2,\n 'crearis': 2,\n 'addo': 2,\n 'quattuor': 2,\n 'divido': 2,\n 'flammaris': 2,\n 'caelum1': 2,\n 'praeclarus': 2,\n 'inferus': 2,\n 'ruina': 2,\n 'inquam': 2,\n 'foveo': 2,\n 'aridus': 2,\n 'commisceo': 2,\n 'passim': 2,\n 'homoeomeria': 2,\n 'pauxillum': 2,\n 'sanguen': 2,\n 'recido1': 2,\n 'vena': 2,\n 'pario2': 2,\n 'cruor': 2,\n 'fumus': 2,\n 'cinis': 2,\n 'immixtus2': 2,\n 'latitaris': 2,\n 'juvo': 2,\n 'musaeo': 2,\n 'contingo1': 2,\n 'mel': 2,\n 'perpetuus': 2,\n 'pervideo': 2,\n 'utrum': 2,\n 'profundum': 2,\n 'ulter': 2,\n 'volaris': 2,\n 'alteruter': 2,\n 'effugius': 2,\n 'foras': 2,\n 'fuga': 2,\n 'ltingt': 2,\n 'termino': 2,\n 'sisto': 2,\n 'suborior': 2,\n 'medium': 2,\n 'genetrix': 1,\n 'almus': 1,\n 'naviger': 1,\n 'frugiferens': 1,\n 'concelebro': 1,\n 'exortus': 1,\n 'placo': 1,\n 'patefacio': 1,\n 'vernus': 1,\n 'resero2': 1,\n 'genitabilis': 1,\n 'favoni': 1,\n 'significo': 1,\n 'persulto': 1,\n 'trano': 1,\n 'fluvius': 1,\n 'rapax': 1,\n 'domus': 1,\n 'vireo1': 1,\n 'blandus': 1,\n 'guberno': 1,\n 'dius': 1,\n 'laetus1': 1,\n 'amabilis': 1,\n 'socia': 1,\n 'studeo': 1,\n 'scribo': 1,\n 'orno': 1,\n 'excello': 1,\n 'militia': 1,\n 'sopio': 1,\n 'tranquillus': 1,\n 'iuvaris': 1,\n 'armipotens': 1,\n 'rego': 1,\n 'reiicit': 1,\n 'vulnus': 1,\n 'suspicio1': 1,\n 'teres': 1,\n 'cervix': 1,\n 're-pono': 1,\n 'inhio': 1,\n 'equus1': 1,\n 'resupinus': 1,\n 'spiritus': 1,\n 'recubo': 1,\n 'fundo': 1,\n 'loquela': 1,\n 'inclutus': 1,\n 'patria': 1,\n 'communio1': 1,\n 'salus': 1,\n 'immortal': 1,\n 'dolor': 1,\n 'ops': 1,\n 'indigus': 1,\n 'promereo': 1,\n 'horribilis': 1,\n 'aspectus': 1,\n 'audeo': 1,\n 'fama': 1,\n 'minito': 1,\n 'comprimo': 1,\n 'irrito1': 1,\n 'effringo': 1,\n 'artus1': 1,\n 'portaris': 1,\n 'cupiret': 1,\n 'pervinco': 1,\n 'flammo': 1,\n 'victor1': 1,\n 'subiectum': 1,\n 'vicissim': 1,\n 'opteritur': 1,\n 'exaequo': 1,\n 'victoria': 1,\n 'indugredi': 1,\n 'scelus': 1,\n 'saepis': 1,\n 'pario': 1,\n 'scelerosus': 1,\n 'aulide': 1,\n 'virgo': 1,\n 'turpo': 1,\n 'ductor': 1,\n 'deligo': 1,\n 'infula': 1,\n 'virgineus': 1,\n 'adstaris': 1,\n 'minister': 1,\n 'aspicio': 1,\n 'civis': 1,\n 'metus': 1,\n 'genu': 1,\n 'miser': 1,\n 'patrius': 1,\n 'princeps': 1,\n 'dono': 1,\n 'nomen': 1,\n 'rex': 1,\n 'tremebundus': 1,\n 'sollemnis': 1,\n 'sacer': 1,\n 'perficio': 1,\n 'comitaris': 1,\n 'castus1': 1,\n 'incestus1': 1,\n 'nubo': 1,\n 'hostia': 1,\n 'concaedes': 1,\n 'macto': 1,\n 'exitus': 1,\n 'classis': 1,\n 'felix': 1,\n 'quovis': 1,\n 'terriloquus': 1,\n 'descisco': 1,\n 'etenim': 1,\n 'somnio': 1,\n 'fortuno': 1,\n 'timor': 1,\n 'aerumna': 1,\n 'minae': 1,\n 'poena': 1,\n 'timeo': 1,\n 'ignoro': 1,\n 'nata': 1,\n 'nasco': 1,\n 'intereo': 1,\n 'dis-redimo': 1,\n 'tenebrae': 1,\n 'lacuna': 1,\n 'amoenus': 1,\n 'defero': 1,\n 'perenni': 1,\n 'edo1': 1,\n 'permaneo': 1,\n 'palleo': 1,\n 'expando': 1,\n 'superi': 1,\n 'luna1': 1,\n 'tunc': 1,\n 'vigilo': 1,\n 'obvius': 1,\n 'terrifico': 1,\n 'morbus': 1,\n 'afficio': 1,\n 'somnus': 1,\n 'sepelio': 1,\n 'coram': 1,\n 'cura': 1,\n 'donum': 1,\n 'studium': 1,\n 'fidelis': 1,\n 'intellego': 1,\n 'contemno': 1,\n 'dissero': 1,\n 'incipio': 1,\n 'pando2': 1,\n 'aucto': 1,\n 'quis1': 1,\n 'appello': 1,\n 'inlustraris': 1,\n 'praesertim': 1,\n 'novitas': 1,\n 'spero': 1,\n 'amicitia': 1,\n 'vigilaris': 1,\n 'serenus1': 1,\n 'praepando': 1,\n 'occulto2': 1,\n 'conviso': 1,\n 'terror': 1,\n 'tenebra': 1,\n 'radius': 1,\n 'discutio': 1,\n 'exordium': 1,\n 'formido1': 1,\n 'caelo': 1,\n 'divino': 1,\n 'numen': 1,\n 'ob': 1,\n 'rectus': 1,\n 'nascor': 1,\n 'egeo': 1,\n 'armentum': 1,\n 'desero': 1,\n 'enascor': 1,\n 'rodo': 1,\n 'frumentum': 1,\n 'auctumnus1': 1,\n 'patefit': 1,\n 'exorerentur': 1,\n 'arceo': 1,\n 'juvenis': 1,\n 'infer': 1,\n 'nosco': 1,\n 'grandesco': 1,\n 'laetificus': 1,\n 'propagaris': 1,\n 'existere': 1,\n 'vado2': 1,\n 'divello': 1,\n 'vitalia': 1,\n 'certo2': 1,\n 'proferrier': 1,\n 'incultus1': 1,\n 'fecundus': 1,\n 'cimus': 1,\n 'ortus': 1,\n 'interimo': 1,\n 'siquis': 1,\n 'pareo': 1,\n 'diverbero': 1,\n 'ictus': 1,\n 'vetustas': 1,\n 'amoveo': 1,\n 'consumo': 1,\n 'ingenuei': 1,\n 'consumpse': 1,\n 'indupedita': 1,\n 'profecto': 1,\n 'contexo': 1,\n 'remaneo': 1,\n 'textura': 1,\n 'pater': 1,\n 'praecipito': 1,\n 'nitidus': 1,\n 'surgo': 1,\n 'viresco': 1,\n ...}"
     },
     "execution_count": 5,
     "metadata": {},
     "output_type": "execute_result"
    }
   ],
   "source": [
    "dict(sorted(luc_1_freq.items(), key=lambda item: item[1], reverse=True))"
   ],
   "metadata": {
    "collapsed": false,
    "pycharm": {
     "name": "#%%\n"
    }
   }
  },
  {
   "cell_type": "code",
   "execution_count": 6,
   "outputs": [],
   "source": [
    "words = list(luc_1_freq.keys())"
   ],
   "metadata": {
    "collapsed": false,
    "pycharm": {
     "name": "#%%\n"
    }
   }
  },
  {
   "cell_type": "code",
   "execution_count": 7,
   "outputs": [
    {
     "data": {
      "text/plain": "1562"
     },
     "execution_count": 7,
     "metadata": {},
     "output_type": "execute_result"
    }
   ],
   "source": [
    "len(list(set(words)))"
   ],
   "metadata": {
    "collapsed": false,
    "pycharm": {
     "name": "#%%\n"
    }
   }
  },
  {
   "cell_type": "code",
   "execution_count": 9,
   "outputs": [
    {
     "data": {
      "text/plain": "['circum1',\n 'cum2',\n 'cum1',\n 'locum1',\n 'quicumque',\n 'procumbo',\n 'cacumen',\n 'cumulo']"
     },
     "execution_count": 9,
     "metadata": {},
     "output_type": "execute_result"
    }
   ],
   "source": [
    "[word for word in words if \"cum\" in word]"
   ],
   "metadata": {
    "collapsed": false,
    "pycharm": {
     "name": "#%%\n"
    }
   }
  },
  {
   "cell_type": "code",
   "execution_count": 8,
   "outputs": [],
   "source": [],
   "metadata": {
    "collapsed": false,
    "pycharm": {
     "name": "#%%\n"
    }
   }
  }
 ],
 "metadata": {
  "kernelspec": {
   "display_name": "Python 3",
   "language": "python",
   "name": "python3"
  },
  "language_info": {
   "codemirror_mode": {
    "name": "ipython",
    "version": 2
   },
   "file_extension": ".py",
   "mimetype": "text/x-python",
   "name": "python",
   "nbconvert_exporter": "python",
   "pygments_lexer": "ipython2",
   "version": "2.7.6"
  }
 },
 "nbformat": 4,
 "nbformat_minor": 0
}