{
 "cells": [
  {
   "cell_type": "code",
   "execution_count": 15,
   "metadata": {
    "collapsed": true
   },
   "outputs": [],
   "source": [
    "import numpy as np\n",
    "import pandas as pd\n",
    "\n",
    "from modules.corpus import CorpusAnalytics"
   ]
  },
  {
   "cell_type": "code",
   "execution_count": 16,
   "outputs": [],
   "source": [
    "text_1 = \"Quae res in civitate duae plurimum possunt, eae contra nos ambae faciunt in hoc tempore, summa gratia et eloquentia; quarum alterum, C. Aquili, vereor, alteram metuo. Eloquentia Q. Hortensi ne me in dicendo impediat, non nihil commoveor, gratia Sex. Naevi ne P. Quinctio noceat, id vero non mediocriter pertimesco. Neque hoc tanto opere querendum videretur, haec summa in illis esse, si in nobis essent saltem mediocria; verum ita se res habet, ut ego, qui neque usu satis et ingenio parum possum, cum patrono disertissimo comparer, P. Quinctius, cui tenues opes, nullae facultates, exiguae amicorum copiae sunt, cum adversario gratiosissimo contendat. Illud quoque nobis accedit incommodum, quod M. Iunius, qui hanc causam aliquotiens apud te egit, homo et in aliis causis exercitatus et in hac multum ac saepe versatus, hoc tempore abest nova legatione impeditus, et ad me ventum est qui, ut summa haberem cetera, temporis quidem certe vix satis habui ut rem tantam, tot controversiis implicatam, possem cognoscere. Ita quod mihi consuevit in ceteris causis esse adiumento, id quoque in hac causa deficit. Nam, quod ingenio minus possum, subsidium mihi diligentia comparavi; quae quanta sit, nisi tempus et spatium datum sit, intellegi non potest. Quae quo plura sunt, C. Aquili, eo te et hos qui tibi in consilio sunt meliore mente nostra verba audire oportebit, ut multis incommodis veritas debilitata tandem aequitate talium virorum recreetur. Quod si tu iudex nullo praesidio fuisse videbere contra vim et gratiam solitudini atque inopiae, si apud hoc consilium ex opibus, non ex veritate causa pendetur, profecto nihil est iam sanctum atque sincerum in civitate, nihil est quod humilitatem cuiusquam gravitas et virtus iudicis consoletur. Certe aut apud te et hos qui tibi adsunt veritas valebit, aut ex hoc loco repulsa vi et gratia locum ubi consistat reperire non poterit.\""
   ],
   "metadata": {
    "collapsed": false,
    "pycharm": {
     "name": "#%%\n"
    }
   }
  },
  {
   "cell_type": "code",
   "execution_count": 17,
   "outputs": [],
   "source": [
    "text_2 = \"Non eo dico, C. Aquili, quo mihi veniat in dubium tua fides et constantia, aut quo non in his quos tibi advocavisti viris lectissimis civitatis spem summam habere P. Quinctius, debeat. Quid ergo est? Primum magnitudo periculi summo timore hominem adficit, quod uno iudicio de fortunis omnibus decernit, idque dum cogitat, non minus saepe ei venit in mentem potestatis quam aequitatis tuae, propterea quod omnes quorum in alterius manu vita posita est saepius illud cogitant, quid possit is cuius in dicione ac potestate sunt quam quid debeat facere. Deinde habet adversarium P. Quinctius verbo Sex. Naevium, re ura huiusce aetatis homines disertissimos, fortissimos, florentissimos nostrae civitatis, qui communi studio summis opibus Sex Naevium defendunt, si id est defendere, cupiditati alterius obtemperare quo is facilius quem velit iniquo iudicio opprimere possit. Nam quid hoc iniquius aut indignius, C. Aquili, dici aut commemorari potest, quam me qui caput alterius, famam fortunasque defendam priore loco causam dicere? cum praesertim Q. Hortensius qui in hoc iudicio partis accusatoris obtinet contra me sit dicturus, cui summam copiam facultatemque dicendi natura largita est. Ita fit ut ego qui tela depellere et volneribus mederi debeam tum id facere cogar cum etiam telum adversarius nullum iecerit, illis autem id tempus impugnandi detur cum et vitandi illorum impetus potestas adempta nobis erit et, si qua in re, id quod parati sunt facere, falsum crimen quasi venenatum aliquod telum iecerint, medicinae faciendae locus non erit. Id accidit praetoris iniquitate et iniuria, primum quod contra omnium consuetudinem iudicium prius de probro quam de re maluit fieri, deinde quod ita constituit id ipsum iudicium ut reus, ante quam verbum accusatoris audisset, causam dicere cogeretur. Quod eorum gratia et potentia factum ao est qui, quasi sua res aut honos agatur, ita diligenter Sex. Naevi studio et cupiditati morem gerunt et in eius modi rebus opes suas experiuntur, in quibus, quo plus propter virtutem nobilitatemque possunt, eo minus quantum possint debent ostendere.\""
   ],
   "metadata": {
    "collapsed": false,
    "pycharm": {
     "name": "#%%\n"
    }
   }
  },
  {
   "cell_type": "code",
   "execution_count": 18,
   "outputs": [],
   "source": [
    "text_3 = \"Cum tot tantisque difficultatibus adfectus atque adflictus in tuam, C. Aquili fidem, veritatem, misericordiam P. Quinctius confugerit, cum adhuc ei propter vim adversariorum non ius par, non agendi potestas; eadem, non magistratus aequus reperiri potuerit, cum ei summam per iniuriam omnia inimica atque infesta fuerint, te, C. Aquili, vosque qui in consilio adestis, orat atque obsecrat ut multis iniuriis iactatam atque agitatam aequitatem in hoc tandem loco consistere et confirmari patiamini.\""
   ],
   "metadata": {
    "collapsed": false,
    "pycharm": {
     "name": "#%%\n"
    }
   }
  },
  {
   "cell_type": "code",
   "execution_count": 19,
   "outputs": [],
   "source": [
    "text_4 = \"Id quo facilius facere possitis, dabo operam ut a principio res quem ad modum gesta et contracta sit cognoscatis. C. Quinctius fuit P. Quincti huius frater, sane ceterarum rerum pater familias et prudens et attentus, una in re paulo minus consideratus, qui societatem cum Sex. Naevio fecerit, viro bono, verum tamen non ita instituto ut iura societatis et officia certi patris familias nosse posset; non quo ei deesset ingenium; nam neque parum facetus scurra Sex. Naevius neque inhumanus praeco umquam est existimatus. Quid ergo est? Cum ei natura nihil melius quam vocem dedisset, pater nihil praeter libertatem reliquisset, vocem in quaestum contulit, libertate usus est quo impunius dicax esset. Qua re quidem socium tibi eum velles adiungere nihil erat nisi ut in tua pecunia condisceret qui pecuniae fructus esset; tamen inductus consuetudine ac familiaritate Quinctius fecit, ut dixi, societatem earum rerum quae in Gallia comparabantur. Erat ei pecuaria res ampla et rustica sane bene culta et fructuosa. Tollitur ab atriis Liciniis atque a praeconum consessu in Galliam Naevius et trans Alpis usque transfertur. Fit magna mutatio loci, non ingeni. Nam qui ab adulescentulo quaestum sibi instituisset sine impendio, postea quam nescio quid impendit et in commune contulit, mediocri quaestu contentus esse non poterat. Nec mirum, si is qui vocem venalem habuerat ea quae voce quaesiverat magno sibi quaestui fore putabat. Itaque hercule haud mediocriter de communi quodcumque poterat ad se in privatam domum sevocabat; qua in re ita diligens erat quasi ei qui magna fide societatem gererent arbitrium pro socio condemnari solerent. Verum his de rebus non necesse habeo dicere ea quae me P. Quinctius cupit commemorare; tametsi causa postulat, tamen quia postulat, non flagitat praeteribo.\""
   ],
   "metadata": {
    "collapsed": false,
    "pycharm": {
     "name": "#%%\n"
    }
   }
  },
  {
   "cell_type": "code",
   "execution_count": 20,
   "outputs": [],
   "source": [
    "text_5 = \"\"\"Vatibus hic mos est, centum sibi poscere uoces,\n",
    "centum ora et linguas optare in carmina centum,\n",
    "fabula seu maesto ponatur hianda tragoedo,\n",
    "uolnera seu Parthi ducentis ab inguine ferrum.\n",
    "'quorsum haec? aut quantas robusti carminis offas            5\n",
    "ingeris, ut par sit centeno gutture niti?\n",
    "grande locuturi nebulas Helicone legunto,\n",
    "si quibus aut Procnes aut si quibus olla Thyestae\n",
    "feruebit saepe insulso cenanda Glyconi.\n",
    "tu neque anhelanti, coquitur dum massa camino,            10\n",
    "folle premis uentos nec clauso murmure raucus\n",
    "nescio quid tecum graue cornicaris inepte\n",
    "nec scloppo tumidas intendis rumpere buccas.\n",
    "uerba togae sequeris iunctura callidus acri,\n",
    "ore teres modico, pallentis radere mores            15\n",
    "doctus et ingenuo culpam defigere ludo.\n",
    "hinc trahe quae dicis mensasque relinque Mycenis\n",
    "cum capite et pedibus plebeiaque prandia noris.'\n",
    "non equidem hoc studeo, pullatis ut mihi nugis\n",
    "pagina turgescat dare pondus idonea fumo.            20\n",
    "secrete loquimur. tibi nunc hortante Camena\n",
    "excutienda damus praecordia, quantaque nostrae\n",
    "pars tua sit, Cornute, animae, tibi, dulcis amice,\n",
    "ostendisse iuuat. pulsa, dinoscere cautus\n",
    "quid solidum crepet et pictae tectoria linguae.            25\n",
    "hic ego centenas ausim deposcere fauces,\n",
    "ut quantum mihi te sinuoso in pectore fixi\n",
    "uoce traham pura, totumque hoc uerba resignent\n",
    "quod latet arcana non enarrabile fibra.\n",
    "    cum primum pauido custos mihi purpura cessit            30\n",
    "bullaque subcinctis Laribus donata pependit,\n",
    "cum blandi comites totaque inpune Subura\n",
    "permisit sparsisse oculos iam candidus umbo,\n",
    "cumque iter ambiguum est et uitae nescius error\n",
    "diducit trepidas ramosa in compita mentes,            35\n",
    "me tibi supposui. teneros tu suscipis annos\n",
    "Socratico, Cornute, sinu. tum fallere sollers\n",
    "adposita intortos extendit regula mores\n",
    "et premitur ratione animus uincique laborat\n",
    "artificemque tuo ducit sub pollice uoltum.            40\n",
    "tecum etenim longos memini consumere soles\n",
    "et tecum primas epulis decerpere noctes.\n",
    "unum opus et requiem pariter disponimus ambo\n",
    "atque uerecunda laxamus seria mensa.\n",
    "non equidem hoc dubites, amborum foedere certo            45\n",
    "consentire dies et ab uno sidere duci.\n",
    "nostra uel aequali suspendit tempora Libra\n",
    "Parca tenax ueri, seu nata fidelibus hora\n",
    "diuidit in Geminos concordia fata duorum\n",
    "Saturnumque grauem nostro Ioue frangimus una,            50\n",
    "nescio quod certe est quod me tibi temperat astrum.\n",
    "    mille hominum species et rerum discolor usus;\n",
    "uelle suum cuique est nec uoto uiuitur uno.\n",
    "mercibus hic Italis mutat sub sole recenti\n",
    "rugosum piper et pallentis grana cumini,            55\n",
    "hic satur inriguo mauult turgescere somno,\n",
    "hic campo indulget, hunc alea decoquit, ille\n",
    "in uenerem putris; sed cum lapidosa cheragra\n",
    "fregerit articulos ueteris ramalia fagi,\n",
    "tunc crassos transisse dies lucemque palustrem            60\n",
    "et sibi iam seri uitam ingemuere relictam.\n",
    "at te nocturnis iuuat inpallescere chartis;\n",
    "cultor enim iuuenum purgatas inseris aures\n",
    "fruge Cleanthea. petite hinc, puerique senesque,\n",
    "finem animo certum miserisque uiatica canis.            65\n",
    "'cras hoc fiet.' idem cras fiat. 'quid? quasi magnum\n",
    "nempe diem donas!' sed cum lux altera uenit,\n",
    "iam cras hesternum consumpsimus; ecce aliud cras\n",
    "egerit hos annos et semper paulum erit ultra.\n",
    "nam quamuis prope te, quamuis temone sub uno            70\n",
    "uertentem sese frustra sectabere canthum,\n",
    "cum rota posterior curras et in axe secundo.\n",
    "    libertate opus est. non hac, ut quisque Velina\n",
    "Publius emeruit, scabiosum tesserula far\n",
    "possidet. heu steriles ueri, quibus una Quiritem            75\n",
    "uertigo facit! hic Dama est non tresis agaso,\n",
    "uappa lippus et in tenui farragine mendax.\n",
    "uerterit hunc dominus, momento turbinis exit\n",
    "Marcus Dama. papae! Marco spondente recusas\n",
    "credere tu nummos? Marco sub iudice palles?            80\n",
    "Marcus dixit, ita est. adsigna, Marce, tabellas.\n",
    "haec mera libertas, hoc nobis pillea donant.\n",
    "'an quisquam est alius liber, nisi ducere uitam\n",
    "cui licet ut libuit? licet ut uolo uiuere, non sum\n",
    "liberior Bruto?' 'mendose colligis' inquit            85\n",
    "Stoicus hic aurem mordaci lotus aceto,\n",
    "'hoc relicum accipio, \"licet\" illud et \"ut uolo\" tolle.'\n",
    "'uindicta postquam meus a praetore recessi,\n",
    "cur mihi non liceat, iussit quodcumque uoluntas,\n",
    "excepto siquid Masuri rubrica uetabit?'            90\n",
    "disce, sed ira cadat naso rugosaque sanna,\n",
    "dum ueteres auias tibi de pulmone reuello.\n",
    "non praetoris erat stultis dare tenuia rerum\n",
    "officia atque usum rapidae permittere uitae;\n",
    "sambucam citius caloni aptaueris alto.            95\n",
    "stat contra ratio et secretam garrit in aurem,\n",
    "ne liceat facere id quod quis uitiabit agendo.\n",
    "publica lex hominum naturaque continet hoc fas,\n",
    "ut teneat uetitos inscitia debilis actus.\n",
    "diluis elleborum, certo conpescere puncto            100\n",
    "nescius examen? uetat hoc natura medendi.\n",
    "nauem si poscat sibi peronatus arator\n",
    "luciferi rudis, exclamet Melicerta perisse\n",
    "frontem de rebus. tibi recto uiuere talo\n",
    "ars dedit et ueris speciem dinoscere calles,            105\n",
    "ne qua subaerato mendosum tinniat auro?\n",
    "quaeque sequenda forent quaeque euitanda uicissim,\n",
    "illa prius creta, mox haec carbone notasti?\n",
    "es modicus uoti, presso lare, dulcis amicis?\n",
    "iam nunc adstringas, iam nunc granaria laxes,            110\n",
    "inque luto fixum possis transcendere nummum\n",
    "nec gluttu sorbere saliuam Mercurialem?\n",
    "'haec mea sunt, teneo' cum uere dixeris, esto\n",
    "liberque ac sapiens praetoribus ac Ioue dextro.\n",
    "sin tu, cum fueris nostrae paulo ante farinae.            115\n",
    "pelliculam ueterem retines et fronte politus\n",
    "astutam uapido seruas in pectore uolpem,\n",
    "quae dederam supra relego funemque reduco.\n",
    "nil tibi concessit ratio; digitum exere, peccas,\n",
    "et quid tam paruum est? sed nullo ture litabis,            120\n",
    "haereat in stultis breuis ut semuncia recti.\n",
    "haec miscere nefas nec, cum sis cetera fossor,\n",
    "tris tantum ad numeros Satyrum moueare Bathylli.\n",
    "'liber ego.' unde datum hoc sumis, tot subdite rebus?\n",
    "an dominum ignoras nisi quem uindicta relaxat?            125\"\"\""
   ],
   "metadata": {
    "collapsed": false,
    "pycharm": {
     "name": "#%%\n"
    }
   }
  },
  {
   "cell_type": "code",
   "execution_count": 21,
   "outputs": [],
   "source": [
    "analyzer = CorpusAnalytics(\"lat\", lemmatizer_type=\"lamonpy\")"
   ],
   "metadata": {
    "collapsed": false,
    "pycharm": {
     "name": "#%%\n"
    }
   }
  },
  {
   "cell_type": "code",
   "execution_count": 22,
   "outputs": [],
   "source": [
    "texts = [text_1, text_2, text_3, text_4, text_5]\n",
    "frequencies = {}\n",
    "for i, t in enumerate(texts):\n",
    "    freq_table = analyzer.process_text(t).lemmata_frequencies\n",
    "    freq_table = pd.DataFrame.from_dict(freq_table, orient=\"index\", columns=[\"count\"])\n",
    "    frequencies[f\"text_{i+1}\"] = freq_table\n"
   ],
   "metadata": {
    "collapsed": false,
    "pycharm": {
     "name": "#%%\n"
    }
   }
  }
 ],
 "metadata": {
  "kernelspec": {
   "display_name": "Python 3",
   "language": "python",
   "name": "python3"
  },
  "language_info": {
   "codemirror_mode": {
    "name": "ipython",
    "version": 2
   },
   "file_extension": ".py",
   "mimetype": "text/x-python",
   "name": "python",
   "nbconvert_exporter": "python",
   "pygments_lexer": "ipython2",
   "version": "2.7.6"
  }
 },
 "nbformat": 4,
 "nbformat_minor": 0
}