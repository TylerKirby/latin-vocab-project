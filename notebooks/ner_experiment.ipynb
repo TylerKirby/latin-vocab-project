{
 "cells": [
  {
   "cell_type": "code",
   "execution_count": 1,
   "metadata": {
    "collapsed": true
   },
   "outputs": [],
   "source": [
    "from modules.vocab_utils import CorpusAnalytics\n",
    "from cltk.core.data_types import Doc, Word\n",
    "from cltk.languages.example_texts import get_example_text\n",
    "from cltk.ner.processes import LatinNERProcess\n",
    "from boltons.strutils import split_punct_ws"
   ]
  },
  {
   "cell_type": "code",
   "execution_count": 2,
   "outputs": [],
   "source": [
    "path_to_texts = \"/Users/tyler/cltk_data/latin/text/latin_text_latin_library/\"\n",
    "sample_texts = [\"caesar/gall1_sample.txt\"]\n",
    "sample_corpus = CorpusAnalytics(sample_texts, path_to_texts, \"lat\")"
   ],
   "metadata": {
    "collapsed": false,
    "pycharm": {
     "name": "#%%\n"
    }
   }
  },
  {
   "cell_type": "code",
   "execution_count": 3,
   "outputs": [],
   "source": [
    "vocab_freq = sample_corpus.analytics[\"caesar/gall1_sample\"][\"lemmata_frequencies\"]"
   ],
   "metadata": {
    "collapsed": false,
    "pycharm": {
     "name": "#%%\n"
    }
   }
  },
  {
   "cell_type": "code",
   "execution_count": 4,
   "outputs": [],
   "source": [
    "vocab_freq = list(dict(vocab_freq).keys())"
   ],
   "metadata": {
    "collapsed": false,
    "pycharm": {
     "name": "#%%\n"
    }
   }
  },
  {
   "cell_type": "code",
   "execution_count": 5,
   "outputs": [
    {
     "name": "stdout",
     "output_type": "stream",
     "text": [
      "Word: Gallia NER: LOCATION\n",
      "Word: est NER: False\n",
      "Word: omnis NER: False\n",
      "Word: divisa NER: False\n",
      "Word: in NER: False\n",
      "Word: partes NER: False\n",
      "Word: tres NER: False\n",
      "Word: quarum NER: False\n",
      "Word: unam NER: False\n",
      "Word: incolunt NER: False\n",
      "Word: Belgae NER: LOCATION\n",
      "Word: aliam NER: False\n",
      "Word: Aquitani NER: LOCATION\n",
      "Word: tertiam NER: False\n",
      "Word: qui NER: False\n",
      "Word: ipsorum NER: False\n",
      "Word: lingua NER: False\n",
      "Word: Celtae NER: LOCATION\n",
      "Word: nostra NER: False\n",
      "Word: Galli NER: LOCATION\n",
      "Word: appellantur NER: False\n",
      "Word: Hi NER: False\n",
      "Word: omnes NER: False\n",
      "Word: lingua NER: False\n",
      "Word: institutis NER: False\n",
      "Word: legibus NER: False\n",
      "Word: inter NER: False\n",
      "Word: se NER: False\n",
      "Word: differunt NER: False\n",
      "Word: Gallos NER: False\n",
      "Word: ab NER: False\n",
      "Word: Aquitanis NER: False\n",
      "Word: Garumna NER: False\n",
      "Word: flumen NER: False\n",
      "Word: a NER: False\n",
      "Word: Belgis NER: False\n",
      "Word: Matrona NER: False\n",
      "Word: et NER: False\n",
      "Word: Sequana NER: False\n",
      "Word: dividit NER: False\n",
      "Word: Horum NER: False\n",
      "Word: omnium NER: False\n",
      "Word: fortissimi NER: False\n",
      "Word: sunt NER: False\n",
      "Word: Belgae NER: LOCATION\n",
      "Word: propterea NER: False\n",
      "Word: quod NER: False\n",
      "Word: a NER: False\n",
      "Word: cultu NER: False\n",
      "Word: atque NER: False\n",
      "Word: humanitate NER: False\n",
      "Word: provinciae NER: False\n",
      "Word: longissime NER: False\n",
      "Word: absunt NER: False\n",
      "Word: minimeque NER: False\n",
      "Word: ad NER: False\n",
      "Word: eos NER: False\n",
      "Word: mercatores NER: False\n",
      "Word: saepe NER: False\n",
      "Word: commeant NER: False\n",
      "Word: atque NER: False\n",
      "Word: ea NER: False\n",
      "Word: quae NER: False\n",
      "Word: ad NER: False\n",
      "Word: effeminandos NER: False\n",
      "Word: animos NER: False\n",
      "Word: pertinent NER: False\n",
      "Word: important NER: False\n",
      "Word: proximique NER: False\n",
      "Word: sunt NER: False\n",
      "Word: Germanis NER: False\n",
      "Word: qui NER: False\n",
      "Word: trans NER: False\n",
      "Word: Rhenum NER: False\n",
      "Word: incolunt NER: False\n",
      "Word: quibuscum NER: False\n",
      "Word: continenter NER: False\n",
      "Word: bellum NER: False\n",
      "Word: gerunt NER: False\n",
      "Word: Qua NER: False\n",
      "Word: de NER: False\n",
      "Word: causa NER: False\n",
      "Word: Helvetii NER: PERSON\n",
      "Word: quoque NER: False\n",
      "Word: reliquos NER: False\n",
      "Word: Gallos NER: False\n",
      "Word: virtute NER: False\n",
      "Word: praecedunt NER: False\n",
      "Word: quod NER: False\n",
      "Word: fere NER: False\n",
      "Word: cotidianis NER: False\n",
      "Word: proeliis NER: False\n",
      "Word: cum NER: False\n",
      "Word: Germanis NER: False\n",
      "Word: contendunt NER: False\n",
      "Word: cum NER: False\n",
      "Word: aut NER: False\n",
      "Word: suis NER: False\n",
      "Word: finibus NER: False\n",
      "Word: eos NER: False\n",
      "Word: prohibent NER: False\n",
      "Word: aut NER: False\n",
      "Word: ipsi NER: False\n",
      "Word: in NER: False\n",
      "Word: eorum NER: False\n",
      "Word: finibus NER: False\n",
      "Word: bellum NER: False\n",
      "Word: gerunt NER: False\n",
      "Word: Eorum NER: False\n",
      "Word: una NER: False\n",
      "Word: pars NER: False\n",
      "Word: quam NER: False\n",
      "Word: Gallos NER: False\n",
      "Word: obtinere NER: False\n",
      "Word: dictum NER: False\n",
      "Word: est NER: False\n",
      "Word: initium NER: False\n",
      "Word: capit NER: False\n",
      "Word: a NER: False\n",
      "Word: flumine NER: False\n",
      "Word: Rhodano NER: LOCATION\n",
      "Word: continetur NER: False\n",
      "Word: Garumna NER: False\n",
      "Word: flumine NER: False\n",
      "Word: Oceano NER: LOCATION\n",
      "Word: finibus NER: False\n",
      "Word: Belgarum NER: False\n",
      "Word: attingit NER: False\n",
      "Word: etiam NER: False\n",
      "Word: ab NER: False\n",
      "Word: Sequanis NER: False\n",
      "Word: et NER: False\n",
      "Word: Helvetiis NER: False\n",
      "Word: flumen NER: False\n",
      "Word: Rhenum NER: False\n",
      "Word: vergit NER: False\n",
      "Word: ad NER: False\n",
      "Word: septentriones NER: False\n",
      "Word: Belgae NER: LOCATION\n",
      "Word: ab NER: False\n",
      "Word: extremis NER: False\n",
      "Word: Galliae NER: LOCATION\n",
      "Word: finibus NER: False\n",
      "Word: oriuntur NER: False\n",
      "Word: pertinent NER: False\n",
      "Word: ad NER: False\n",
      "Word: inferiorem NER: False\n",
      "Word: partem NER: False\n",
      "Word: fluminis NER: False\n",
      "Word: Rheni NER: False\n",
      "Word: spectant NER: False\n",
      "Word: in NER: False\n",
      "Word: septentrionem NER: False\n",
      "Word: et NER: False\n",
      "Word: orientem NER: False\n",
      "Word: solem NER: False\n",
      "Word: Aquitania NER: LOCATION\n",
      "Word: a NER: False\n",
      "Word: Garumna NER: False\n",
      "Word: flumine NER: False\n",
      "Word: ad NER: False\n",
      "Word: Pyrenaeos NER: False\n",
      "Word: montes NER: False\n",
      "Word: et NER: False\n",
      "Word: eam NER: False\n",
      "Word: partem NER: False\n",
      "Word: Oceani NER: LOCATION\n",
      "Word: quae NER: False\n",
      "Word: est NER: False\n",
      "Word: ad NER: False\n",
      "Word: Hispaniam NER: False\n",
      "Word: pertinet NER: False\n",
      "Word: spectat NER: False\n",
      "Word: inter NER: False\n",
      "Word: occasum NER: False\n",
      "Word: solis NER: False\n",
      "Word: et NER: False\n",
      "Word: septentriones NER: False\n"
     ]
    }
   ],
   "source": [
    "a_process = LatinNERProcess()\n",
    "tokens = [Word(string=token) for token in split_punct_ws(sample_corpus.analytics[\"caesar/gall1_sample\"][\"clean_text\"])]\n",
    "output_doc = a_process.run(Doc(raw=sample_corpus.analytics[\"caesar/gall1_sample\"][\"clean_text\"], words=tokens))\n",
    "for word in output_doc.words:\n",
    "    print(f\"Word: {word.string} NER: {word.named_entity}\")"
   ],
   "metadata": {
    "collapsed": false,
    "pycharm": {
     "name": "#%%\n"
    }
   }
  }
 ],
 "metadata": {
  "kernelspec": {
   "display_name": "Python 3",
   "language": "python",
   "name": "python3"
  },
  "language_info": {
   "codemirror_mode": {
    "name": "ipython",
    "version": 2
   },
   "file_extension": ".py",
   "mimetype": "text/x-python",
   "name": "python",
   "nbconvert_exporter": "python",
   "pygments_lexer": "ipython2",
   "version": "2.7.6"
  }
 },
 "nbformat": 4,
 "nbformat_minor": 0
}