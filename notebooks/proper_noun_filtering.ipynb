{
 "cells": [
  {
   "cell_type": "code",
   "execution_count": 3,
   "id": "synthetic-england",
   "metadata": {},
   "outputs": [],
   "source": [
    "from modules.vocab_utils import CorpusAnalytics"
   ]
  },
  {
   "cell_type": "code",
   "execution_count": 15,
   "id": "exempt-variation",
   "metadata": {},
   "outputs": [],
   "source": [
    "with open(\"../assets/proper_nouns.txt\") as f:\n",
    "    proper_nouns_list = set([l[:-1].lower() for l in f.readlines() if \"_\" not in l])"
   ]
  },
  {
   "cell_type": "code",
   "execution_count": 17,
   "id": "romantic-citation",
   "metadata": {},
   "outputs": [
    {
     "data": {
      "text/plain": [
       "'gallia est omnis divisa in partes tres  quarum unam incolunt belgae  aliam aquitani  tertiam qui ipsorum  lingua celtae  nostra galli appellantur  hi omnes lingua  institutis  legibus inter se differunt   gallos ab aquitanis garumna flumen  a belgis matrona et sequana dividit  horum omnium fortissimi sunt belgae   propterea quod a cultu atque humanitate provinciae longissime absunt  minimeque ad eos mercatores saepe commeant  atque ea quae ad effeminandos animos pertinent important  proximique sunt germanis  qui trans rhenum incolunt  quibuscum  continenter bellum gerunt  qua de causa helvetii quoque reliquos gallos virtute praecedunt  quod fere cotidianis proeliis  cum germanis contendunt  cum aut suis finibus eos prohibent aut ipsi in eorum finibus bellum gerunt  eorum una  pars  quam  gallos obtinere dictum est  initium capit a flumine rhodano  continetur garumna flumine  oceano  finibus belgarum  attingit  etiam ab sequanis et helvetiis flumen rhenum  vergit ad septentriones  belgae ab extremis galliae finibus oriuntur   pertinent ad inferiorem partem fluminis rheni  spectant in septentrionem et orientem solem  aquitania a garumna flumine ad  pyrenaeos montes et eam partem oceani quae est ad hispaniam pertinet  spectat inter occasum solis et septentriones'"
      ]
     },
     "execution_count": 17,
     "metadata": {},
     "output_type": "execute_result"
    }
   ],
   "source": [
    "path_to_texts = \"/Users/tyler/cltk_data/latin/text/latin_text_latin_library/\"\n",
    "sample_texts = [\"caesar/gall1_sample.txt\"]\n",
    "sample_corpus = CorpusAnalytics(sample_texts, path_to_texts, \"lat\")\n",
    "sample_corpus.analytics[\"caesar/gall1_sample\"][\"clean_text\"]"
   ]
  },
  {
   "cell_type": "code",
   "execution_count": 19,
   "id": "aerial-portuguese",
   "metadata": {},
   "outputs": [],
   "source": [
    " lemmata = sample_corpus.analytics[\"caesar/gall1_sample\"][\"lemmata\"]"
   ]
  },
  {
   "cell_type": "code",
   "execution_count": 24,
   "id": "upper-iceland",
   "metadata": {},
   "outputs": [
    {
     "name": "stdout",
     "output_type": "stream",
     "text": [
      "('gallia', 'gallia')\n",
      "('in', 'in')\n",
      "('partes', 'pars')\n",
      "('tres', 'tres')\n",
      "('unam', 'unus')\n",
      "('belgae', 'belgae')\n",
      "('aliam', 'alius')\n",
      "('aquitani', 'aquitani')\n",
      "('tertiam', 'tertius')\n",
      "('celtae', 'celtae')\n",
      "('galli', 'gallus')\n",
      "('hi', 'hic')\n",
      "('inter', 'inter')\n",
      "('gallos', 'gallus')\n",
      "('aquitanis', 'aquitanis')\n",
      "('belgis', 'belgae')\n",
      "('matrona', 'matrona')\n",
      "('sequana', 'sequana')\n",
      "('horum', 'hic')\n",
      "('fortissimi', 'fortis')\n",
      "('belgae', 'belgae')\n",
      "('cultu', 'cultus')\n",
      "('longissime', 'longus')\n",
      "('eos', 'is')\n",
      "('ea', 'is')\n",
      "('germanis', 'germanus')\n",
      "('trans', 'trans')\n",
      "('rhenum', 'rhenus')\n",
      "('bellum', 'bellum')\n",
      "('gallos', 'gallus')\n",
      "('germanis', 'germanus')\n",
      "('aut', 'aut')\n",
      "('eos', 'is')\n",
      "('aut', 'aut')\n",
      "('in', 'in')\n",
      "('eorum', 'is')\n",
      "('bellum', 'bellum')\n",
      "('eorum', 'is')\n",
      "('una', 'unus')\n",
      "('pars', 'pars')\n",
      "('gallos', 'gallus')\n",
      "('rhodano', 'rhodano')\n",
      "('oceano', 'oceanus')\n",
      "('belgarum', 'belgae')\n",
      "('sequanis', 'sequanis')\n",
      "('rhenum', 'rhenus')\n",
      "('septentriones', 'septentrio')\n",
      "('belgae', 'belgae')\n",
      "('galliae', 'gallia')\n",
      "('partem', 'pars')\n",
      "('rheni', 'rhenus')\n",
      "('in', 'in')\n",
      "('septentrionem', 'septentrio')\n",
      "('aquitania', 'aquitania')\n",
      "('pyrenaeos', 'pyrenaeos')\n",
      "('montes', 'mons')\n",
      "('eam', 'is')\n",
      "('partem', 'pars')\n",
      "('oceani', 'oceani')\n",
      "('hispaniam', 'hispania')\n",
      "('inter', 'inter')\n",
      "('septentriones', 'septentrio')\n"
     ]
    }
   ],
   "source": [
    "for l in lemmata:\n",
    "    if l[1] in proper_nouns_list:\n",
    "        print(l)"
   ]
  },
  {
   "cell_type": "code",
   "execution_count": 26,
   "id": "threatened-cathedral",
   "metadata": {},
   "outputs": [
    {
     "data": {
      "text/plain": [
       "True"
      ]
     },
     "execution_count": 26,
     "metadata": {},
     "output_type": "execute_result"
    }
   ],
   "source": [
    "\"in\" in proper_nouns_list"
   ]
  },
  {
   "cell_type": "code",
   "execution_count": null,
   "id": "western-technical",
   "metadata": {},
   "outputs": [],
   "source": []
  }
 ],
 "metadata": {
  "kernelspec": {
   "display_name": "Python 3",
   "language": "python",
   "name": "python3"
  },
  "language_info": {
   "codemirror_mode": {
    "name": "ipython",
    "version": 3
   },
   "file_extension": ".py",
   "mimetype": "text/x-python",
   "name": "python",
   "nbconvert_exporter": "python",
   "pygments_lexer": "ipython3",
   "version": "3.8.6"
  }
 },
 "nbformat": 4,
 "nbformat_minor": 5
}
