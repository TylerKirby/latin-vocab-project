{
 "cells": [
  {
   "cell_type": "code",
   "execution_count": 1,
   "id": "continuous-thousand",
   "metadata": {},
   "outputs": [],
   "source": [
    "import re\n",
    "from collections import Counter\n",
    "from cltk.tag.ner import tag_ner\n",
    "from cltk.lemmatize.lat import LatinBackoffLemmatizer\n",
    "from cltk.data.fetch import FetchCorpus\n",
    "from vocab_utils import CorpusAnalytics, diederich_vocab"
   ]
  },
  {
   "cell_type": "code",
   "execution_count": 2,
   "id": "brilliant-embassy",
   "metadata": {},
   "outputs": [],
   "source": [
    "# Uncomment below to download models for Latin lemmatizer\n",
    "# corpus_downloader = FetchCorpus(language=\"lat\")\n",
    "# corpus_downloader.import_corpus(\"lat_models_cltk\")\n"
   ]
  },
  {
   "cell_type": "code",
   "execution_count": 3,
   "id": "diagnostic-surfing",
   "metadata": {},
   "outputs": [],
   "source": [
    "# AP Corpus\n",
    "ap_latin_texts = [\n",
    "        \"vergil/aen1.txt\",\n",
    "        \"vergil/aen2.txt\",\n",
    "        \"vergil/aen4.txt\",\n",
    "        \"vergil/aen6.txt\",\n",
    "        \"caesar/gall1.txt\",\n",
    "        \"caesar/gall4.txt\",\n",
    "        \"caesar/gall5.txt\",\n",
    "        \"caesar/gall6.txt\"\n",
    "    ]\n",
    "path_to_texts = \"/Users/tyler/cltk_data/latin/text/latin_text_latin_library/\"\n",
    "ap_latin_corpus = CorpusAnalytics(ap_latin_texts, path_to_texts, \"lat\")"
   ]
  },
  {
   "cell_type": "code",
   "execution_count": 4,
   "outputs": [
    {
     "name": "stdout",
     "output_type": "stream",
     "text": [
      "vergil/aen1 Vocab Statistics\n",
      "Total Words: 4808\n",
      "Total Vocab: 1748\n",
      "Total Known Words: 3182\n",
      "Total Known Vocab: 736\n",
      "Percent Known Words: 0.6618136439267887\n",
      "Percent Known Vocab: 0.42105263157894735\n",
      "==========\n",
      "vergil/aen2 Vocab Statistics\n",
      "Total Words: 5145\n",
      "Total Vocab: 1706\n",
      "Total Known Words: 3303\n",
      "Total Known Vocab: 712\n",
      "Percent Known Words: 0.6419825072886297\n",
      "Percent Known Vocab: 0.41735052754982416\n",
      "==========\n",
      "vergil/aen4 Vocab Statistics\n",
      "Total Words: 4526\n",
      "Total Vocab: 1652\n",
      "Total Known Words: 2993\n",
      "Total Known Vocab: 715\n",
      "Percent Known Words: 0.6612903225806451\n",
      "Percent Known Vocab: 0.4328087167070218\n",
      "==========\n",
      "vergil/aen6 Vocab Statistics\n",
      "Total Words: 5788\n",
      "Total Vocab: 1977\n",
      "Total Known Words: 4020\n",
      "Total Known Vocab: 820\n",
      "Percent Known Words: 0.6945404284727021\n",
      "Percent Known Vocab: 0.4147698533131007\n",
      "==========\n",
      "caesar/gall1 Vocab Statistics\n",
      "Total Words: 7838\n",
      "Total Vocab: 1535\n",
      "Total Known Words: 5522\n",
      "Total Known Vocab: 650\n",
      "Percent Known Words: 0.7045164582801735\n",
      "Percent Known Vocab: 0.4234527687296417\n",
      "==========\n",
      "caesar/gall4 Vocab Statistics\n",
      "Total Words: 4468\n",
      "Total Vocab: 1119\n",
      "Total Known Words: 3086\n",
      "Total Known Vocab: 511\n",
      "Percent Known Words: 0.6906893464637421\n",
      "Percent Known Vocab: 0.45665773011617516\n",
      "==========\n",
      "caesar/gall5 Vocab Statistics\n",
      "Total Words: 7098\n",
      "Total Vocab: 1601\n",
      "Total Known Words: 4847\n",
      "Total Known Vocab: 646\n",
      "Percent Known Words: 0.6828684136376444\n",
      "Percent Known Vocab: 0.40349781386633354\n",
      "==========\n",
      "caesar/gall6 Vocab Statistics\n",
      "Total Words: 5332\n",
      "Total Vocab: 1393\n",
      "Total Known Words: 3695\n",
      "Total Known Vocab: 617\n",
      "Percent Known Words: 0.6929857464366092\n",
      "Percent Known Vocab: 0.4429289303661163\n",
      "==========\n"
     ]
    }
   ],
   "source": [
    "VOCAB_SIZE=1500\n",
    "for k, v in ap_latin_corpus.analytics.items():\n",
    "    print(f\"{k} Vocab Statistics\")\n",
    "    total_words = sum(v[\"filtered_lemmata_frequencies\"].values())\n",
    "    print(f\"Total Words: {total_words}\")\n",
    "    total_vocab = len(v[\"filtered_lemmata_frequencies\"].keys())\n",
    "    print(f\"Total Vocab: {total_vocab}\")\n",
    "    total_known_words = 0\n",
    "    total_known_vocab = 0\n",
    "    for word, freq in v[\"filtered_lemmata_frequencies\"].items():\n",
    "        if word in diederich_vocab[:VOCAB_SIZE]:\n",
    "            total_known_words += freq\n",
    "            total_known_vocab += 1\n",
    "    print(f\"Total Known Words: {total_known_words}\")\n",
    "    print(f\"Total Known Vocab: {total_known_vocab}\")\n",
    "    print(f\"Percent Known Words: {total_known_words/total_words}\")\n",
    "    print(f\"Percent Known Vocab: {total_known_vocab/total_vocab}\")\n",
    "    print(\"=\" * 10)"
   ],
   "metadata": {
    "collapsed": false,
    "pycharm": {
     "name": "#%%\n"
    }
   }
  },
  {
   "cell_type": "code",
   "execution_count": 7,
   "outputs": [
    {
     "data": {
      "text/plain": "'Vergil  Aeneid I                                      P  VERGILI MARONIS AENEIDOS LIBER PRIMVS       Arma virumque cano  Troiae qui primus ab oris  Italiam  fato profugus  Laviniaque venit  litora  multum ille et terris iactatus et alto  vi superum saevae memorem Iunonis ob iram   multa quoque et bello passus  dum conderet urbem        inferretque deos Latio  genus unde Latinum   Albanique patres  atque altae moenia Romae       Musa  mihi causas memora  quo numine laeso   quidve dolens  regina deum tot volvere casus  insignem pietate virum  tot adire labores        impulerit  Tantaene animis caelestibus irae       Urbs antiqua fuit  Tyrii tenuere coloni   Karthago  Italiam contra Tiberinaque longe  ostia  dives opum studiisque asperrima belli   quam Iuno fertur terris magis omnibus unam        posthabita coluisse Samo  hic illius arma   hic currus fuit  hoc regnum dea gentibus esse   si qua fata sinant  iam tum tenditque fovetque   Progeniem sed enim Troiano a sanguine duci  audierat  '"
     },
     "execution_count": 7,
     "metadata": {},
     "output_type": "execute_result"
    }
   ],
   "source": [
    "# Sample of text, tokens, and NERs\n",
    "ap_latin_corpus.analytics[\"vergil/aen1\"][\"clean_text\"][:1000]"
   ],
   "metadata": {
    "collapsed": false,
    "pycharm": {
     "name": "#%%\n"
    }
   }
  },
  {
   "cell_type": "code",
   "execution_count": 8,
   "outputs": [
    {
     "data": {
      "text/plain": "['Vergil',\n 'Aeneid',\n 'I',\n 'P',\n 'VERGILI',\n 'MARONIS',\n 'AENEIDOS',\n 'LIBER',\n 'PRIMVS',\n 'Arma',\n 'vir',\n 'cano',\n 'Troius',\n 'qui',\n 'primus',\n 'ab',\n 'ora',\n 'Italia',\n 'fatum',\n 'profugus',\n 'Laviniaque',\n 'venio',\n 'litus',\n 'multus',\n 'ille',\n 'et',\n 'terra',\n 'jacto',\n 'et',\n 'altus',\n 'vis',\n 'superi',\n 'saevus',\n 'memoro',\n 'Juno',\n 'ob',\n 'ira',\n 'multus',\n 'quoque',\n 'et',\n 'bellum',\n 'patior',\n 'dum',\n 'condo',\n 'urbs',\n 'infero',\n 'deus',\n 'Latius',\n 'genus',\n 'unde']"
     },
     "execution_count": 8,
     "metadata": {},
     "output_type": "execute_result"
    }
   ],
   "source": [
    "ap_latin_corpus.analytics[\"vergil/aen1\"][\"tokenized_lemmata\"][:50]\n"
   ],
   "metadata": {
    "collapsed": false,
    "pycharm": {
     "name": "#%%\n"
    }
   }
  },
  {
   "cell_type": "code",
   "execution_count": 10,
   "outputs": [
    {
     "data": {
      "text/plain": "['vergil',\n 'aeneid',\n 'i',\n 'p',\n 'vergili',\n 'maronis',\n 'aeneidos',\n 'liber',\n 'arma',\n 'vir',\n 'cano',\n 'troius',\n 'qui',\n 'primus',\n 'ab',\n 'ora',\n 'fatum',\n 'profugus',\n 'laviniaque',\n 'venio',\n 'litus',\n 'multus',\n 'ille',\n 'et',\n 'terra',\n 'jacto',\n 'et',\n 'altus',\n 'vis',\n 'superi',\n 'saevus',\n 'memoro',\n 'juno',\n 'ob',\n 'ira',\n 'multus',\n 'quoque',\n 'et',\n 'bellum',\n 'patior',\n 'dum',\n 'condo',\n 'urbs',\n 'infero',\n 'deus',\n 'latius',\n 'genus',\n 'unde',\n 'pater',\n 'atque']"
     },
     "execution_count": 10,
     "metadata": {},
     "output_type": "execute_result"
    }
   ],
   "source": [
    "ap_latin_corpus.analytics[\"vergil/aen1\"][\"ner_filtered_tokens\"][:50]"
   ],
   "metadata": {
    "collapsed": false,
    "pycharm": {
     "name": "#%%\n"
    }
   }
  },
  {
   "cell_type": "code",
   "execution_count": 11,
   "outputs": [
    {
     "data": {
      "text/plain": "['primvs',\n 'italia',\n 'latinus',\n 'albanus',\n 'roma',\n 'carthago',\n 'italia',\n 'tiberinus',\n 'samos',\n 'libya',\n 'romanus',\n 'siculus',\n 'italia',\n 'talia',\n 'aeolia',\n 'ilium1',\n 'italia',\n 'simois',\n 'talia',\n 'eurus',\n 'syrtis',\n 'abas',\n 'aletes',\n 'eurum',\n 'eure',\n 'cymothoe',\n 'libya',\n 'phrygia',\n 'caicus',\n 'talia',\n 'gyas',\n 'libya',\n 'italia',\n 'certe',\n 'romanus',\n 'illyricus',\n 'liburnus',\n 'patavium',\n 'olli',\n 'lavinium',\n 'italia',\n 'ilium1',\n 'lavinium',\n 'hectoreus',\n 'mars',\n 'ilium1',\n 'romulus',\n 'martius',\n 'romanus',\n 'romanus']"
     },
     "execution_count": 11,
     "metadata": {},
     "output_type": "execute_result"
    }
   ],
   "source": [
    "ap_latin_corpus.analytics[\"vergil/aen1\"][\"ners\"][:50]\n"
   ],
   "metadata": {
    "collapsed": false,
    "pycharm": {
     "name": "#%%\n"
    }
   }
  },
  {
   "cell_type": "code",
   "execution_count": null,
   "outputs": [],
   "source": [],
   "metadata": {
    "collapsed": false,
    "pycharm": {
     "name": "#%%\n"
    }
   }
  }
 ],
 "metadata": {
  "kernelspec": {
   "display_name": "Python 3",
   "language": "python",
   "name": "python3"
  },
  "language_info": {
   "codemirror_mode": {
    "name": "ipython",
    "version": 3
   },
   "file_extension": ".py",
   "mimetype": "text/x-python",
   "name": "python",
   "nbconvert_exporter": "python",
   "pygments_lexer": "ipython3",
   "version": "3.8.6"
  }
 },
 "nbformat": 4,
 "nbformat_minor": 5
}