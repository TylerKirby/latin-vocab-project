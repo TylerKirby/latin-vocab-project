{
 "cells": [
  {
   "cell_type": "code",
   "execution_count": 16,
   "id": "continuous-thousand",
   "metadata": {},
   "outputs": [],
   "source": [
    "import re\n",
    "from collections import Counter\n",
    "from cltk.tag import ner\n",
    "from cltk.lemmatize.lat import LatinBackoffLemmatizer\n",
    "from cltk.data.fetch import FetchCorpus"
   ]
  },
  {
   "cell_type": "code",
   "execution_count": 17,
   "id": "brilliant-embassy",
   "metadata": {},
   "outputs": [],
   "source": [
    "# Uncomment below to download models for Latin lemmatizer\n",
    "# corpus_downloader = FetchCorpus(language=\"lat\")\n",
    "# corpus_downloader.import_corpus(\"lat_models_cltk\")\n"
   ]
  },
  {
   "cell_type": "code",
   "execution_count": 18,
   "id": "diagnostic-surfing",
   "metadata": {},
   "outputs": [],
   "source": [
    "# AP Corpus\n",
    "ap_corpus = [\n",
    "    \"vergil/aen1.txt\",\n",
    "    \"vergil/aen2.txt\",\n",
    "    \"vergil/aen4.txt\",\n",
    "    \"vergil/aen6.txt\",\n",
    "    \"caesar/gall1.txt\",\n",
    "    \"caesar/gall4.txt\",\n",
    "    \"caesar/gall5.txt\",\n",
    "    \"caesar/gall6.txt\"\n",
    "]"
   ]
  },
  {
   "cell_type": "code",
   "execution_count": 19,
   "id": "explicit-triumph",
   "metadata": {},
   "outputs": [],
   "source": [
    "# Create a dictionary of clean text, lemmata, and word frequencies for each text in the corpus.\n",
    "def lemmatize_text(text):\n",
    "    lemmata = lemmatizer.lemmatize(text.split(\" \"))\n",
    "    return [l for l in lemmata if l[1] != '']\n",
    "\n",
    "path_to_texts = \"/Users/tyler/cltk_data/latin/text/latin_text_latin_library/\"\n",
    "pattern = re.compile('[^a-zA-Z]')\n",
    "texts = {}\n",
    "lemmatizer = LatinBackoffLemmatizer()\n",
    "for text in ap_corpus:\n",
    "    text_path = path_to_texts + text\n",
    "    with open(text_path) as file:\n",
    "        raw_text = file.read()\n",
    "    clean_text = pattern.sub(' ', raw_text).lower().strip()\n",
    "    text_title = text[:-4]\n",
    "    lemmata = lemmatize_text(clean_text)\n",
    "    texts[text_title] = {\n",
    "        \"clean_text\": clean_text,\n",
    "        \"lemmata\": lemmata,\n",
    "        \"word_frequencies\": Counter([l[1] for l in lemmata])\n",
    "    }\n"
   ]
  },
  {
   "cell_type": "code",
   "execution_count": 20,
   "id": "sensitive-registrar",
   "metadata": {
    "pycharm": {
     "name": "#%%\n"
    }
   },
   "outputs": [],
   "source": [
    "# Load and parse Diederich vocab\n",
    "with open(\"diederich.txt\") as f:\n",
    "    diederich_vocab = [l.split(\";\")[0] for l in f.readlines()[3:]]"
   ]
  },
  {
   "cell_type": "code",
   "execution_count": 37,
   "outputs": [
    {
     "name": "stdout",
     "output_type": "stream",
     "text": [
      "vergil/aen1 Vocab Statistics\n",
      "Total Words: 4896\n",
      "Total Vocab: 1753\n",
      "Total Known Words: 2995\n",
      "Total Known Vocab: 647\n",
      "Percent Known Words: 0.6117238562091504\n",
      "Percent Known Vocab: 0.3690815744438106\n",
      "==========\n",
      "vergil/aen2 Vocab Statistics\n",
      "Total Words: 5191\n",
      "Total Vocab: 1777\n",
      "Total Known Words: 3046\n",
      "Total Known Vocab: 623\n",
      "Percent Known Words: 0.5867848198805625\n",
      "Percent Known Vocab: 0.3505908835115363\n",
      "==========\n",
      "vergil/aen4 Vocab Statistics\n",
      "Total Words: 4588\n",
      "Total Vocab: 1704\n",
      "Total Known Words: 2773\n",
      "Total Known Vocab: 639\n",
      "Percent Known Words: 0.6044027898866609\n",
      "Percent Known Vocab: 0.375\n",
      "==========\n",
      "vergil/aen6 Vocab Statistics\n",
      "Total Words: 5869\n",
      "Total Vocab: 2048\n",
      "Total Known Words: 3690\n",
      "Total Known Vocab: 716\n",
      "Percent Known Words: 0.6287272107684444\n",
      "Percent Known Vocab: 0.349609375\n",
      "==========\n",
      "caesar/gall1 Vocab Statistics\n",
      "Total Words: 8197\n",
      "Total Vocab: 1546\n",
      "Total Known Words: 5087\n",
      "Total Known Vocab: 575\n",
      "Percent Known Words: 0.6205928998414054\n",
      "Percent Known Vocab: 0.3719275549805951\n",
      "==========\n",
      "caesar/gall4 Vocab Statistics\n",
      "Total Words: 4604\n",
      "Total Vocab: 1120\n",
      "Total Known Words: 2831\n",
      "Total Known Vocab: 454\n",
      "Percent Known Words: 0.6149000868809731\n",
      "Percent Known Vocab: 0.40535714285714286\n",
      "==========\n",
      "caesar/gall5 Vocab Statistics\n",
      "Total Words: 7398\n",
      "Total Vocab: 1595\n",
      "Total Known Words: 4529\n",
      "Total Known Vocab: 569\n",
      "Percent Known Words: 0.6121924844552582\n",
      "Percent Known Vocab: 0.3567398119122257\n",
      "==========\n",
      "caesar/gall6 Vocab Statistics\n",
      "Total Words: 5498\n",
      "Total Vocab: 1396\n",
      "Total Known Words: 3437\n",
      "Total Known Vocab: 545\n",
      "Percent Known Words: 0.6251364132411786\n",
      "Percent Known Vocab: 0.39040114613180515\n",
      "==========\n"
     ]
    }
   ],
   "source": [
    "VOCAB_SIZE=1250\n",
    "for k, v in texts.items():\n",
    "    print(f\"{k} Vocab Statistics\")\n",
    "    total_words = sum(v[\"word_frequencies\"].values())\n",
    "    print(f\"Total Words: {total_words}\")\n",
    "    total_vocab = len(v[\"word_frequencies\"].keys())\n",
    "    print(f\"Total Vocab: {total_vocab}\")\n",
    "    total_known_words = 0\n",
    "    total_known_vocab = 0\n",
    "    for word, freq in v[\"word_frequencies\"].items():\n",
    "        if word in diederich_vocab[:VOCAB_SIZE]:\n",
    "            total_known_words += freq\n",
    "            total_known_vocab += 1\n",
    "    print(f\"Total Known Words: {total_known_words}\")\n",
    "    print(f\"Total Known Vocab: {total_known_vocab}\")\n",
    "    print(f\"Percent Known Words: {total_known_words/total_words}\")\n",
    "    print(f\"Percent Known Vocab: {total_known_vocab/total_vocab}\")\n",
    "    print(\"=\" * 10)"
   ],
   "metadata": {
    "collapsed": false,
    "pycharm": {
     "name": "#%%\n"
    }
   }
  },
  {
   "cell_type": "code",
   "execution_count": null,
   "outputs": [],
   "source": [],
   "metadata": {
    "collapsed": false,
    "pycharm": {
     "name": "#%%\n"
    }
   }
  }
 ],
 "metadata": {
  "kernelspec": {
   "display_name": "Python 3",
   "language": "python",
   "name": "python3"
  },
  "language_info": {
   "codemirror_mode": {
    "name": "ipython",
    "version": 3
   },
   "file_extension": ".py",
   "mimetype": "text/x-python",
   "name": "python",
   "nbconvert_exporter": "python",
   "pygments_lexer": "ipython3",
   "version": "3.8.6"
  }
 },
 "nbformat": 4,
 "nbformat_minor": 5
}